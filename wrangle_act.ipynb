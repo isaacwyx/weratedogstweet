{
 "cells": [
  {
   "cell_type": "markdown",
   "metadata": {},
   "source": [
    "# **Data Wrangling and Analysis for  \"WeRateDogs\" Tweets**\n",
    "\n",
    "### by Yuxiang Wu"
   ]
  },
  {
   "cell_type": "markdown",
   "metadata": {},
   "source": [
    "## **Table of Contents**\n",
    "- [Introduction](#intro)\n",
    "- [Data Gathering](#gather)\n",
    "- [Data Assessing](#assess)\n",
    "    - [Quality Issues Summary](#quality)\n",
    "    - [Tidiness Issues Summary](#tidiness)\n",
    "- [Data Cleaning](#clean)\n",
    "- [Analyzing & Visualizing Data](#analyze)"
   ]
  },
  {
   "cell_type": "markdown",
   "metadata": {},
   "source": [
    "<a id='intro'></a>\n",
    "## **Introduction**\n",
    "\n",
    "WeRateDogs is a Twitter account that rates people's dogs with a humorous comment about the dog. WeRateDogs usually give ratings with a denominator of 10 and a numerator greater than 10, making a key feature of the Twitter account. So far, WeRateDogs has over 8 million followers and has received media coverages in many countries.\n",
    "\n",
    "In this project, I will be using Python and its libraries to gather, access, and clean the dataset collected from over 5000 WeRateDogs tweets. My goal is to create interesting and trustworthy analyses and visualization by wrangling the essential data from the dataset.\n",
    "\n",
    "The initial data will be collected from three different sources. A csv file called twitter_archive_enhanced, which contains basic and raw information, is provided directly by the Udacity student online portal. An Udacity employee has run every image in the WeRateDogs Twitter archive through a neural network that can classify dogs' breeds, resulting in a dataset full of image predictions. The image prediction file will be download through a provided url. Finally, the historical data of retweet counts and favourite counts will be collected through Twitter API.\n",
    "\n",
    "Based on the project context, I have generated a few questions for analysis.\n",
    "1. How well does 'WeRateDogs' perform over time?\n",
    "2. Do twitter users prefer 'retweet' or 'like' when they favour a dog tweet?\n",
    "3. What ratings do dogs usually receive?\n",
    "4. What are the top 10 common predicted dog breeds on WeRateDogs?\n",
    "5. How confident was the dog breed prediction?"
   ]
  },
  {
   "cell_type": "markdown",
   "metadata": {},
   "source": [
    "***"
   ]
  },
  {
   "cell_type": "markdown",
   "metadata": {},
   "source": [
    "<a id='gather'></a>\n",
    "## **Gathering Data**"
   ]
  },
  {
   "cell_type": "code",
   "execution_count": 1,
   "metadata": {},
   "outputs": [],
   "source": [
    "# import python libraries\n",
    "import pandas as pd\n",
    "import numpy as np\n",
    "import seaborn as sns\n",
    "import matplotlib.pyplot as plt\n",
    "%matplotlib inline\n",
    "import requests\n",
    "import tweepy\n",
    "import json"
   ]
  },
  {
   "cell_type": "markdown",
   "metadata": {},
   "source": [
    "###### Import provided Twitter archive csv file "
   ]
  },
  {
   "cell_type": "code",
   "execution_count": 2,
   "metadata": {},
   "outputs": [],
   "source": [
    "# load existing csv file\n",
    "twitter_archive = pd.read_csv('twitter-archive-enhanced.csv')"
   ]
  },
  {
   "cell_type": "markdown",
   "metadata": {},
   "source": [
    "###### Import the image predictions file from provided url"
   ]
  },
  {
   "cell_type": "code",
   "execution_count": 3,
   "metadata": {},
   "outputs": [],
   "source": [
    "# download file programatically from url\n",
    "url = 'https://d17h27t6h515a5.cloudfront.net/topher/2017/August/599fd2ad_image-predictions/image-predictions.tsv'\n",
    "response = requests.get(url)\n",
    "\n",
    "with open(url.split('/')[-1], mode='wb') as file:\n",
    "    file.write(response.content)\n",
    "\n",
    "# load extracted data into a dataframe\n",
    "image_prediction = pd.read_csv('image-predictions.tsv', sep='\\t')"
   ]
  },
  {
   "cell_type": "markdown",
   "metadata": {},
   "source": [
    "###### Import API data from Twitter"
   ]
  },
  {
   "cell_type": "code",
   "execution_count": 4,
   "metadata": {},
   "outputs": [],
   "source": [
    "# set up API authentication pieces\n",
    "consumer_key = 'hidden'\n",
    "consumer_secret = 'hidden'\n",
    "access_token = 'hidden'\n",
    "access_secret = 'hidden'\n",
    "\n",
    "auth = tweepy.OAuthHandler(consumer_key, consumer_secret)\n",
    "auth.set_access_token(access_token, access_secret)\n",
    "\n",
    "api = tweepy.API(auth)"
   ]
  },
  {
   "cell_type": "code",
   "execution_count": 5,
   "metadata": {
    "collapsed": true
   },
   "outputs": [
    {
     "name": "stdout",
     "output_type": "stream",
     "text": [
      "Rate limit reached. Sleeping for: 367\n",
      "888202515573088257\n",
      "873697596434513921\n",
      "872668790621863937\n",
      "872261713294495745\n",
      "869988702071779329\n",
      "866816280283807744\n",
      "861769973181624320\n",
      "856602993587888130\n",
      "851953902622658560\n",
      "845459076796616705\n",
      "844704788403113984\n",
      "842892208864923648\n",
      "837366284874571778\n",
      "837012587749474308\n",
      "829374341691346946\n",
      "827228250799742977\n",
      "812747805718642688\n",
      "802247111496568832\n",
      "779123168116150273\n",
      "775096608509886464\n",
      "771004394259247104\n",
      "770743923962707968\n",
      "759566828574212096\n",
      "Rate limit reached. Sleeping for: 737\n",
      "754011816964026368\n",
      "680055455951884288\n",
      "Rate limit reached. Sleeping for: 736\n",
      "2283.0036129951477\n"
     ]
    }
   ],
   "source": [
    "# To collect status data through Twitter, we first need to find out if all tweet ids in \n",
    "# twitter's API match with with the  twitter_archive file, and then read and store the data\n",
    "\n",
    "# create empty arrays to store the data\n",
    "api_data_to_copy = []\n",
    "api_id_in_archive = []\n",
    "api_id_notin_archive = []\n",
    "\n",
    "# start the timer (optional)\n",
    "start = time.time()\n",
    "\n",
    "# read and load data from api\n",
    "for tweet_id in twitter_archive['tweet_id']:\n",
    "    try:\n",
    "        tweets = api.get_status(tweet_id,\n",
    "                               tweet_mode = 'extended',\n",
    "                               wait_on_rate_limit = True,\n",
    "                               wait_on_rate_limit_notify = True)._json\n",
    "        api_data_to_copy.append(tweets)\n",
    "        api_id_in_archive.append(tweet_id)\n",
    "    except:\n",
    "        api_id_notin_archive.append(tweet_id)\n",
    "        # print out ids that are not in twitter_archive\n",
    "        print(tweet_id)\n",
    "\n",
    "# end the timer (optinal)\n",
    "end = time.time()\n",
    "print(end - start)"
   ]
  },
  {
   "cell_type": "code",
   "execution_count": 6,
   "metadata": {
    "collapsed": true
   },
   "outputs": [
    {
     "name": "stdout",
     "output_type": "stream",
     "text": [
      "<class 'pandas.core.frame.DataFrame'>\n",
      "RangeIndex: 2331 entries, 0 to 2330\n",
      "Data columns (total 32 columns):\n",
      "contributors                     0 non-null object\n",
      "coordinates                      0 non-null object\n",
      "created_at                       2331 non-null object\n",
      "display_text_range               2331 non-null object\n",
      "entities                         2331 non-null object\n",
      "extended_entities                2059 non-null object\n",
      "favorite_count                   2331 non-null int64\n",
      "favorited                        2331 non-null bool\n",
      "full_text                        2331 non-null object\n",
      "geo                              0 non-null object\n",
      "id                               2331 non-null int64\n",
      "id_str                           2331 non-null object\n",
      "in_reply_to_screen_name          77 non-null object\n",
      "in_reply_to_status_id            77 non-null float64\n",
      "in_reply_to_status_id_str        77 non-null object\n",
      "in_reply_to_user_id              77 non-null float64\n",
      "in_reply_to_user_id_str          77 non-null object\n",
      "is_quote_status                  2331 non-null bool\n",
      "lang                             2331 non-null object\n",
      "place                            1 non-null object\n",
      "possibly_sensitive               2196 non-null object\n",
      "possibly_sensitive_appealable    2196 non-null object\n",
      "quoted_status                    24 non-null object\n",
      "quoted_status_id                 26 non-null float64\n",
      "quoted_status_id_str             26 non-null object\n",
      "quoted_status_permalink          26 non-null object\n",
      "retweet_count                    2331 non-null int64\n",
      "retweeted                        2331 non-null bool\n",
      "retweeted_status                 163 non-null object\n",
      "source                           2331 non-null object\n",
      "truncated                        2331 non-null bool\n",
      "user                             2331 non-null object\n",
      "dtypes: bool(4), float64(3), int64(3), object(22)\n",
      "memory usage: 519.1+ KB\n"
     ]
    }
   ],
   "source": [
    "# move data from API into a dataframe\n",
    "tweet_json = pd.DataFrame(api_data_to_copy)\n",
    "\n",
    "# check data type in the dataset\n",
    "tweet_json.info()"
   ]
  },
  {
   "cell_type": "code",
   "execution_count": 7,
   "metadata": {
    "collapsed": true
   },
   "outputs": [
    {
     "name": "stdout",
     "output_type": "stream",
     "text": [
      "<class 'pandas.core.frame.DataFrame'>\n",
      "RangeIndex: 2331 entries, 0 to 2330\n",
      "Data columns (total 3 columns):\n",
      "id                2331 non-null int64\n",
      "retweet_count     2331 non-null int64\n",
      "favorite_count    2331 non-null int64\n",
      "dtypes: int64(3)\n",
      "memory usage: 54.7 KB\n"
     ]
    }
   ],
   "source": [
    "# select the data of interest from the above dataset\n",
    "tweet_json = tweet_json[['id', 'retweet_count','favorite_count' ]]\n",
    "\n",
    "# check for selection\n",
    "tweet_json.info()"
   ]
  },
  {
   "cell_type": "code",
   "execution_count": 8,
   "metadata": {},
   "outputs": [],
   "source": [
    "# save the created dataframe as a csv file\n",
    "tweet_json.to_csv('tweet_json.txt', encoding = 'utf-8', index = False)"
   ]
  },
  {
   "cell_type": "markdown",
   "metadata": {},
   "source": [
    "***"
   ]
  },
  {
   "cell_type": "markdown",
   "metadata": {},
   "source": [
    "<a id='assess'></a>\n",
    "## Assessing Data"
   ]
  },
  {
   "cell_type": "code",
   "execution_count": 1,
   "metadata": {},
   "outputs": [],
   "source": [
    "# import python libraries and all three dataframes again\n",
    "import pandas as pd\n",
    "import numpy as np\n",
    "import seaborn as sns\n",
    "import matplotlib.pyplot as plt\n",
    "%matplotlib inline\n",
    "import datetime\n",
    "import requests\n",
    "import tweepy\n",
    "import time\n",
    "import json\n",
    "import os\n",
    "import re\n",
    "\n",
    "twitter_archive = pd.read_csv('twitter-archive-enhanced.csv')\n",
    "image_prediction = pd.read_csv('image-predictions.tsv', sep='\\t')\n",
    "twitter_api = pd.read_csv('tweet_json.txt', encoding = 'utf-8')"
   ]
  },
  {
   "cell_type": "markdown",
   "metadata": {},
   "source": [
    "###### Twitter archive dataset"
   ]
  },
  {
   "cell_type": "code",
   "execution_count": 2,
   "metadata": {},
   "outputs": [
    {
     "data": {
      "text/html": [
       "<div>\n",
       "<style scoped>\n",
       "    .dataframe tbody tr th:only-of-type {\n",
       "        vertical-align: middle;\n",
       "    }\n",
       "\n",
       "    .dataframe tbody tr th {\n",
       "        vertical-align: top;\n",
       "    }\n",
       "\n",
       "    .dataframe thead th {\n",
       "        text-align: right;\n",
       "    }\n",
       "</style>\n",
       "<table border=\"1\" class=\"dataframe\">\n",
       "  <thead>\n",
       "    <tr style=\"text-align: right;\">\n",
       "      <th></th>\n",
       "      <th>tweet_id</th>\n",
       "      <th>in_reply_to_status_id</th>\n",
       "      <th>in_reply_to_user_id</th>\n",
       "      <th>timestamp</th>\n",
       "      <th>source</th>\n",
       "      <th>text</th>\n",
       "      <th>retweeted_status_id</th>\n",
       "      <th>retweeted_status_user_id</th>\n",
       "      <th>retweeted_status_timestamp</th>\n",
       "      <th>expanded_urls</th>\n",
       "      <th>rating_numerator</th>\n",
       "      <th>rating_denominator</th>\n",
       "      <th>name</th>\n",
       "      <th>doggo</th>\n",
       "      <th>floofer</th>\n",
       "      <th>pupper</th>\n",
       "      <th>puppo</th>\n",
       "    </tr>\n",
       "  </thead>\n",
       "  <tbody>\n",
       "    <tr>\n",
       "      <th>2339</th>\n",
       "      <td>666102155909144576</td>\n",
       "      <td>NaN</td>\n",
       "      <td>NaN</td>\n",
       "      <td>2015-11-16 03:55:04 +0000</td>\n",
       "      <td>&lt;a href=\"http://twitter.com/download/iphone\" r...</td>\n",
       "      <td>Oh my. Here you are seeing an Adobe Setter giv...</td>\n",
       "      <td>NaN</td>\n",
       "      <td>NaN</td>\n",
       "      <td>NaN</td>\n",
       "      <td>https://twitter.com/dog_rates/status/666102155...</td>\n",
       "      <td>11</td>\n",
       "      <td>10</td>\n",
       "      <td>None</td>\n",
       "      <td>None</td>\n",
       "      <td>None</td>\n",
       "      <td>None</td>\n",
       "      <td>None</td>\n",
       "    </tr>\n",
       "    <tr>\n",
       "      <th>712</th>\n",
       "      <td>784431430411685888</td>\n",
       "      <td>NaN</td>\n",
       "      <td>NaN</td>\n",
       "      <td>2016-10-07 16:33:21 +0000</td>\n",
       "      <td>&lt;a href=\"http://twitter.com/download/iphone\" r...</td>\n",
       "      <td>This is Stormy. He's curly af. Already pupared...</td>\n",
       "      <td>NaN</td>\n",
       "      <td>NaN</td>\n",
       "      <td>NaN</td>\n",
       "      <td>https://twitter.com/dog_rates/status/784431430...</td>\n",
       "      <td>12</td>\n",
       "      <td>10</td>\n",
       "      <td>Stormy</td>\n",
       "      <td>None</td>\n",
       "      <td>None</td>\n",
       "      <td>None</td>\n",
       "      <td>None</td>\n",
       "    </tr>\n",
       "  </tbody>\n",
       "</table>\n",
       "</div>"
      ],
      "text/plain": [
       "                tweet_id  in_reply_to_status_id  in_reply_to_user_id  \\\n",
       "2339  666102155909144576                    NaN                  NaN   \n",
       "712   784431430411685888                    NaN                  NaN   \n",
       "\n",
       "                      timestamp  \\\n",
       "2339  2015-11-16 03:55:04 +0000   \n",
       "712   2016-10-07 16:33:21 +0000   \n",
       "\n",
       "                                                 source  \\\n",
       "2339  <a href=\"http://twitter.com/download/iphone\" r...   \n",
       "712   <a href=\"http://twitter.com/download/iphone\" r...   \n",
       "\n",
       "                                                   text  retweeted_status_id  \\\n",
       "2339  Oh my. Here you are seeing an Adobe Setter giv...                  NaN   \n",
       "712   This is Stormy. He's curly af. Already pupared...                  NaN   \n",
       "\n",
       "      retweeted_status_user_id retweeted_status_timestamp  \\\n",
       "2339                       NaN                        NaN   \n",
       "712                        NaN                        NaN   \n",
       "\n",
       "                                          expanded_urls  rating_numerator  \\\n",
       "2339  https://twitter.com/dog_rates/status/666102155...                11   \n",
       "712   https://twitter.com/dog_rates/status/784431430...                12   \n",
       "\n",
       "      rating_denominator    name doggo floofer pupper puppo  \n",
       "2339                  10    None  None    None   None  None  \n",
       "712                   10  Stormy  None    None   None  None  "
      ]
     },
     "execution_count": 2,
     "metadata": {},
     "output_type": "execute_result"
    }
   ],
   "source": [
    "# visually inspect the data\n",
    "twitter_archive.sample(2)"
   ]
  },
  {
   "cell_type": "markdown",
   "metadata": {},
   "source": [
    "<span style=\"color:blue\">Observations</span>\n",
    "- <span style=\"color:blue\">Missing stage information: 'None' for 'doggo', 'floofer', 'pupper', and 'puppo'.</span>\n",
    "- <span style=\"color:blue\">It'd be not easy to analyze timestamp for its long format</span>\n",
    "- <span style=\"color:blue\">Can't read the entire string in 'source' and 'text'</span>\n",
    "- <span style=\"color:blue\">Missing information for some columns (i.e. 'NaN)</span>"
   ]
  },
  {
   "cell_type": "code",
   "execution_count": 3,
   "metadata": {},
   "outputs": [
    {
     "data": {
      "text/html": [
       "<div>\n",
       "<style scoped>\n",
       "    .dataframe tbody tr th:only-of-type {\n",
       "        vertical-align: middle;\n",
       "    }\n",
       "\n",
       "    .dataframe tbody tr th {\n",
       "        vertical-align: top;\n",
       "    }\n",
       "\n",
       "    .dataframe thead th {\n",
       "        text-align: right;\n",
       "    }\n",
       "</style>\n",
       "<table border=\"1\" class=\"dataframe\">\n",
       "  <thead>\n",
       "    <tr style=\"text-align: right;\">\n",
       "      <th></th>\n",
       "      <th>doggo</th>\n",
       "      <th>floofer</th>\n",
       "      <th>pupper</th>\n",
       "      <th>puppo</th>\n",
       "      <th>count</th>\n",
       "    </tr>\n",
       "  </thead>\n",
       "  <tbody>\n",
       "    <tr>\n",
       "      <th>0</th>\n",
       "      <td>None</td>\n",
       "      <td>None</td>\n",
       "      <td>None</td>\n",
       "      <td>None</td>\n",
       "      <td>1976</td>\n",
       "    </tr>\n",
       "    <tr>\n",
       "      <th>1</th>\n",
       "      <td>None</td>\n",
       "      <td>None</td>\n",
       "      <td>None</td>\n",
       "      <td>puppo</td>\n",
       "      <td>29</td>\n",
       "    </tr>\n",
       "    <tr>\n",
       "      <th>2</th>\n",
       "      <td>None</td>\n",
       "      <td>None</td>\n",
       "      <td>pupper</td>\n",
       "      <td>None</td>\n",
       "      <td>245</td>\n",
       "    </tr>\n",
       "    <tr>\n",
       "      <th>3</th>\n",
       "      <td>None</td>\n",
       "      <td>floofer</td>\n",
       "      <td>None</td>\n",
       "      <td>None</td>\n",
       "      <td>9</td>\n",
       "    </tr>\n",
       "    <tr>\n",
       "      <th>4</th>\n",
       "      <td>doggo</td>\n",
       "      <td>None</td>\n",
       "      <td>None</td>\n",
       "      <td>None</td>\n",
       "      <td>83</td>\n",
       "    </tr>\n",
       "    <tr>\n",
       "      <th>5</th>\n",
       "      <td>doggo</td>\n",
       "      <td>None</td>\n",
       "      <td>None</td>\n",
       "      <td>puppo</td>\n",
       "      <td>1</td>\n",
       "    </tr>\n",
       "    <tr>\n",
       "      <th>6</th>\n",
       "      <td>doggo</td>\n",
       "      <td>None</td>\n",
       "      <td>pupper</td>\n",
       "      <td>None</td>\n",
       "      <td>12</td>\n",
       "    </tr>\n",
       "    <tr>\n",
       "      <th>7</th>\n",
       "      <td>doggo</td>\n",
       "      <td>floofer</td>\n",
       "      <td>None</td>\n",
       "      <td>None</td>\n",
       "      <td>1</td>\n",
       "    </tr>\n",
       "  </tbody>\n",
       "</table>\n",
       "</div>"
      ],
      "text/plain": [
       "   doggo  floofer  pupper  puppo  count\n",
       "0   None     None    None   None   1976\n",
       "1   None     None    None  puppo     29\n",
       "2   None     None  pupper   None    245\n",
       "3   None  floofer    None   None      9\n",
       "4  doggo     None    None   None     83\n",
       "5  doggo     None    None  puppo      1\n",
       "6  doggo     None  pupper   None     12\n",
       "7  doggo  floofer    None   None      1"
      ]
     },
     "execution_count": 3,
     "metadata": {},
     "output_type": "execute_result"
    }
   ],
   "source": [
    "# check dog stages\n",
    "twitter_archive.groupby([\"doggo\", \"floofer\", \"pupper\", \"puppo\"]).size().reset_index().rename(columns={0: \"count\"})"
   ]
  },
  {
   "cell_type": "markdown",
   "metadata": {},
   "source": [
    "<span style=\"color:blue\">Observations</span>\n",
    "- <span style=\"color:blue\">There are 1 tweet has both 'doggo' and 'puppo' </span>\n",
    "- <span style=\"color:blue\">There are 12 tweets have both 'doggo' and 'pupper' </span>\n",
    "- <span style=\"color:blue\">There are 1 tweet has both 'doggo' and 'floofer' </span>"
   ]
  },
  {
   "cell_type": "code",
   "execution_count": 4,
   "metadata": {},
   "outputs": [
    {
     "name": "stdout",
     "output_type": "stream",
     "text": [
      "<class 'pandas.core.frame.DataFrame'>\n",
      "RangeIndex: 2356 entries, 0 to 2355\n",
      "Data columns (total 17 columns):\n",
      "tweet_id                      2356 non-null int64\n",
      "in_reply_to_status_id         78 non-null float64\n",
      "in_reply_to_user_id           78 non-null float64\n",
      "timestamp                     2356 non-null object\n",
      "source                        2356 non-null object\n",
      "text                          2356 non-null object\n",
      "retweeted_status_id           181 non-null float64\n",
      "retweeted_status_user_id      181 non-null float64\n",
      "retweeted_status_timestamp    181 non-null object\n",
      "expanded_urls                 2297 non-null object\n",
      "rating_numerator              2356 non-null int64\n",
      "rating_denominator            2356 non-null int64\n",
      "name                          2356 non-null object\n",
      "doggo                         2356 non-null object\n",
      "floofer                       2356 non-null object\n",
      "pupper                        2356 non-null object\n",
      "puppo                         2356 non-null object\n",
      "dtypes: float64(4), int64(3), object(10)\n",
      "memory usage: 313.0+ KB\n"
     ]
    }
   ],
   "source": [
    "twitter_archive.info()"
   ]
  },
  {
   "cell_type": "markdown",
   "metadata": {},
   "source": [
    "<span style=\"color:blue\">Observations</span>\n",
    "- <span style=\"color:blue\">missing expanded_urls (2297 vs. 2356). Each tweet should have a unique url</span>\n",
    "- <span style=\"color:blue\">Erroneous datatypes</span>\n",
    "    - <span style=\"color:blue\">'in_reply_to_status_id' should be integer instead of float</span>\n",
    "    - <span style=\"color:blue\">'in_reply_to_user_id' should be integer instead of float</span>\n",
    "    - <span style=\"color:blue\">'timestamp' should be DateTime instead of 'object'</span>\n",
    "    - <span style=\"color:blue\">'retweeted_status_id' should be integer instead of float</span>\n",
    "    - <span style=\"color:blue\">'retweeted_status_user_id' should be integer instead of float</span>\n",
    "    - <span style=\"color:blue\">'retweeted_status_timestamp' should be DateTime instead of 'object'</span>"
   ]
  },
  {
   "cell_type": "code",
   "execution_count": 5,
   "metadata": {},
   "outputs": [
    {
     "data": {
      "text/plain": [
       "tweet_id                      2356\n",
       "in_reply_to_status_id           77\n",
       "in_reply_to_user_id             31\n",
       "timestamp                     2356\n",
       "source                           4\n",
       "text                          2356\n",
       "retweeted_status_id            181\n",
       "retweeted_status_user_id        25\n",
       "retweeted_status_timestamp     181\n",
       "expanded_urls                 2218\n",
       "rating_numerator                40\n",
       "rating_denominator              18\n",
       "name                           957\n",
       "doggo                            2\n",
       "floofer                          2\n",
       "pupper                           2\n",
       "puppo                            2\n",
       "dtype: int64"
      ]
     },
     "execution_count": 5,
     "metadata": {},
     "output_type": "execute_result"
    }
   ],
   "source": [
    "twitter_archive.nunique()"
   ]
  },
  {
   "cell_type": "markdown",
   "metadata": {},
   "source": [
    "<span style=\"color:blue\">Observations</span>\n",
    "- <span style=\"color:blue\"> Retweets exist in the data set, which we don't want for this analysis </span>\n",
    "    - <span style=\"color:blue\">'retweeted_status_id' should be 0 instead of 181 unique values</span>\n",
    "    - <span style=\"color:blue\">'retweeted_status_user_id' should be 0 instead of 25 unique values</span>\n",
    "    - <span style=\"color:blue\">'retweeted_status_timestamp' should be 0 instead of 181 unique values</span>\n",
    "- <span style=\"color:blue\">There should be only one unique value for the rating_denominator, which is '10'. We will take a closer look at the ratings </span>\n",
    "- <span style=\"color:blue\">Four columns (doggo, floofer, pupper, puppo) contain the same variable information</span>"
   ]
  },
  {
   "cell_type": "code",
   "execution_count": 6,
   "metadata": {},
   "outputs": [
    {
     "name": "stdout",
     "output_type": "stream",
     "text": [
      "[10, 11, 50, 80, 20, 2, 16, 40, 70, 15, 90, 110, 120, 130, 150, 170, 7, 0]\n"
     ]
    }
   ],
   "source": [
    "# check the rating denominators\n",
    "print(twitter_archive['rating_denominator'].value_counts().index.tolist())"
   ]
  },
  {
   "cell_type": "markdown",
   "metadata": {},
   "source": [
    "<span style=\"color:blue\">Observations</span>\n",
    "- <span style=\"color:blue\"> Invalid denominators (values other than 10)</span>"
   ]
  },
  {
   "cell_type": "code",
   "execution_count": 7,
   "metadata": {},
   "outputs": [
    {
     "name": "stdout",
     "output_type": "stream",
     "text": [
      "[12, 11, 10, 13, 9, 8, 7, 14, 5, 6, 3, 4, 1, 2, 420, 0, 15, 75, 80, 20, 24, 26, 44, 50, 60, 165, 84, 88, 144, 182, 143, 666, 960, 1776, 17, 27, 45, 99, 121, 204]\n"
     ]
    }
   ],
   "source": [
    "# check the rating numerators\n",
    "print(twitter_archive['rating_numerator'].value_counts().index.tolist())"
   ]
  },
  {
   "cell_type": "markdown",
   "metadata": {},
   "source": [
    "<span style=\"color:blue\">Observations</span>\n",
    "- <span style=\"color:blue\"> Invalid numerators (large values such as 1776 and 666)</span>"
   ]
  },
  {
   "cell_type": "code",
   "execution_count": 8,
   "metadata": {},
   "outputs": [
    {
     "data": {
      "text/plain": [
       "Abby             2\n",
       "Ace              1\n",
       "Acro             1\n",
       "Adele            1\n",
       "Aiden            1\n",
       "Aja              1\n",
       "Akumi            1\n",
       "Al               1\n",
       "Albert           2\n",
       "Albus            2\n",
       "Aldrick          1\n",
       "Alejandro        1\n",
       "Alexander        1\n",
       "Alexanderson     1\n",
       "Alf              1\n",
       "Alfie            5\n",
       "Alfy             1\n",
       "Alice            2\n",
       "Amber            1\n",
       "Ambrose          1\n",
       "Amy              1\n",
       "Amélie           1\n",
       "Anakin           2\n",
       "Andru            1\n",
       "Andy             1\n",
       "Angel            1\n",
       "Anna             1\n",
       "Anthony          1\n",
       "Antony           1\n",
       "Apollo           1\n",
       "                ..\n",
       "Ziva             1\n",
       "Zoe              1\n",
       "Zoey             3\n",
       "Zooey            1\n",
       "Zuzu             1\n",
       "a               55\n",
       "actually         2\n",
       "all              1\n",
       "an               7\n",
       "by               1\n",
       "getting          2\n",
       "his              1\n",
       "incredibly       1\n",
       "infuriating      1\n",
       "just             4\n",
       "life             1\n",
       "light            1\n",
       "mad              2\n",
       "my               1\n",
       "not              2\n",
       "officially       1\n",
       "old              1\n",
       "one              4\n",
       "quite            4\n",
       "space            1\n",
       "such             1\n",
       "the              8\n",
       "this             1\n",
       "unacceptable     1\n",
       "very             5\n",
       "Name: name, Length: 957, dtype: int64"
      ]
     },
     "execution_count": 8,
     "metadata": {},
     "output_type": "execute_result"
    }
   ],
   "source": [
    "# check the names\n",
    "twitter_archive['name'].value_counts().sort_index()"
   ]
  },
  {
   "cell_type": "markdown",
   "metadata": {},
   "source": [
    "<span style=\"color:blue\">Observations</span>\n",
    "- <span style=\"color:blue\">Inaccurate names such as 'a', 'an', 'by','very'</span>\n",
    "- <span style=\"color:blue\">Values with the first letter capitalized are more likely actual names</span> "
   ]
  },
  {
   "cell_type": "markdown",
   "metadata": {},
   "source": [
    "###### Image prediction data"
   ]
  },
  {
   "cell_type": "code",
   "execution_count": 9,
   "metadata": {},
   "outputs": [
    {
     "data": {
      "text/html": [
       "<div>\n",
       "<style scoped>\n",
       "    .dataframe tbody tr th:only-of-type {\n",
       "        vertical-align: middle;\n",
       "    }\n",
       "\n",
       "    .dataframe tbody tr th {\n",
       "        vertical-align: top;\n",
       "    }\n",
       "\n",
       "    .dataframe thead th {\n",
       "        text-align: right;\n",
       "    }\n",
       "</style>\n",
       "<table border=\"1\" class=\"dataframe\">\n",
       "  <thead>\n",
       "    <tr style=\"text-align: right;\">\n",
       "      <th></th>\n",
       "      <th>tweet_id</th>\n",
       "      <th>jpg_url</th>\n",
       "      <th>img_num</th>\n",
       "      <th>p1</th>\n",
       "      <th>p1_conf</th>\n",
       "      <th>p1_dog</th>\n",
       "      <th>p2</th>\n",
       "      <th>p2_conf</th>\n",
       "      <th>p2_dog</th>\n",
       "      <th>p3</th>\n",
       "      <th>p3_conf</th>\n",
       "      <th>p3_dog</th>\n",
       "    </tr>\n",
       "  </thead>\n",
       "  <tbody>\n",
       "    <tr>\n",
       "      <th>1782</th>\n",
       "      <td>828770345708580865</td>\n",
       "      <td>https://pbs.twimg.com/media/C4BiOXOXAAAf6IS.jpg</td>\n",
       "      <td>1</td>\n",
       "      <td>seat_belt</td>\n",
       "      <td>0.765979</td>\n",
       "      <td>False</td>\n",
       "      <td>Chesapeake_Bay_retriever</td>\n",
       "      <td>0.033899</td>\n",
       "      <td>True</td>\n",
       "      <td>polecat</td>\n",
       "      <td>0.027252</td>\n",
       "      <td>False</td>\n",
       "    </tr>\n",
       "    <tr>\n",
       "      <th>1514</th>\n",
       "      <td>786664955043049472</td>\n",
       "      <td>https://pbs.twimg.com/media/CurLmoqXgAEPoJ-.jpg</td>\n",
       "      <td>1</td>\n",
       "      <td>Leonberg</td>\n",
       "      <td>0.512034</td>\n",
       "      <td>True</td>\n",
       "      <td>keeshond</td>\n",
       "      <td>0.464816</td>\n",
       "      <td>True</td>\n",
       "      <td>Pomeranian</td>\n",
       "      <td>0.007812</td>\n",
       "      <td>True</td>\n",
       "    </tr>\n",
       "    <tr>\n",
       "      <th>1512</th>\n",
       "      <td>786363235746385920</td>\n",
       "      <td>https://pbs.twimg.com/media/Cum5LlfWAAAyPcS.jpg</td>\n",
       "      <td>1</td>\n",
       "      <td>golden_retriever</td>\n",
       "      <td>0.929266</td>\n",
       "      <td>True</td>\n",
       "      <td>Labrador_retriever</td>\n",
       "      <td>0.062867</td>\n",
       "      <td>True</td>\n",
       "      <td>Saluki</td>\n",
       "      <td>0.002157</td>\n",
       "      <td>True</td>\n",
       "    </tr>\n",
       "  </tbody>\n",
       "</table>\n",
       "</div>"
      ],
      "text/plain": [
       "                tweet_id                                          jpg_url  \\\n",
       "1782  828770345708580865  https://pbs.twimg.com/media/C4BiOXOXAAAf6IS.jpg   \n",
       "1514  786664955043049472  https://pbs.twimg.com/media/CurLmoqXgAEPoJ-.jpg   \n",
       "1512  786363235746385920  https://pbs.twimg.com/media/Cum5LlfWAAAyPcS.jpg   \n",
       "\n",
       "      img_num                p1   p1_conf  p1_dog                        p2  \\\n",
       "1782        1         seat_belt  0.765979   False  Chesapeake_Bay_retriever   \n",
       "1514        1          Leonberg  0.512034    True                  keeshond   \n",
       "1512        1  golden_retriever  0.929266    True        Labrador_retriever   \n",
       "\n",
       "       p2_conf  p2_dog          p3   p3_conf  p3_dog  \n",
       "1782  0.033899    True     polecat  0.027252   False  \n",
       "1514  0.464816    True  Pomeranian  0.007812    True  \n",
       "1512  0.062867    True      Saluki  0.002157    True  "
      ]
     },
     "execution_count": 9,
     "metadata": {},
     "output_type": "execute_result"
    }
   ],
   "source": [
    "# visually inspect the data\n",
    "image_prediction.sample(3)"
   ]
  },
  {
   "cell_type": "markdown",
   "metadata": {},
   "source": [
    "<span style=\"color:blue\">Observations</span>\n",
    "- <span style=\"color:blue\"> Dog breeds' names are not consistently in upper or lowercase for p1, p2, and p3</span>"
   ]
  },
  {
   "cell_type": "code",
   "execution_count": 10,
   "metadata": {},
   "outputs": [
    {
     "data": {
      "text/plain": [
       "tweet_id    2075\n",
       "jpg_url     2009\n",
       "img_num        4\n",
       "p1           378\n",
       "p1_conf     2006\n",
       "p1_dog         2\n",
       "p2           405\n",
       "p2_conf     2004\n",
       "p2_dog         2\n",
       "p3           408\n",
       "p3_conf     2006\n",
       "p3_dog         2\n",
       "dtype: int64"
      ]
     },
     "execution_count": 10,
     "metadata": {},
     "output_type": "execute_result"
    }
   ],
   "source": [
    "image_prediction.nunique()"
   ]
  },
  {
   "cell_type": "markdown",
   "metadata": {},
   "source": [
    "<span style=\"color:blue\">Observations</span>\n",
    "- <span style=\"color:blue\">missing information (2075 tweet_id vs. 2356 tweet id in the tweet_archive data)</span>\n",
    "- <span style=\"color:blue\">missing image (2009 jpg_url vs. 2075 tweet id)</span>"
   ]
  },
  {
   "cell_type": "code",
   "execution_count": 11,
   "metadata": {},
   "outputs": [
    {
     "data": {
      "text/plain": [
       "0"
      ]
     },
     "execution_count": 11,
     "metadata": {},
     "output_type": "execute_result"
    }
   ],
   "source": [
    "# check if there is any duplicated tweet_id\n",
    "sum(image_prediction['tweet_id'].duplicated())"
   ]
  },
  {
   "cell_type": "code",
   "execution_count": 12,
   "metadata": {},
   "outputs": [
    {
     "data": {
      "text/plain": [
       "66"
      ]
     },
     "execution_count": 12,
     "metadata": {},
     "output_type": "execute_result"
    }
   ],
   "source": [
    "# check if there is any duplicated url\n",
    "sum(image_prediction['jpg_url'].duplicated())"
   ]
  },
  {
   "cell_type": "markdown",
   "metadata": {},
   "source": [
    "<span style=\"color:blue\">Observations</span>\n",
    "- <span style=\"color:blue\">there are 66 possible retweets</span>"
   ]
  },
  {
   "cell_type": "code",
   "execution_count": 13,
   "metadata": {},
   "outputs": [
    {
     "data": {
      "text/plain": [
       "Afghan_hound                       4\n",
       "African_crocodile                  1\n",
       "African_grey                       1\n",
       "African_hunting_dog                1\n",
       "Airedale                          12\n",
       "American_Staffordshire_terrier    13\n",
       "American_black_bear                1\n",
       "Angora                             2\n",
       "Appenzeller                        2\n",
       "Arabian_camel                      3\n",
       "Arctic_fox                         4\n",
       "Australian_terrier                 2\n",
       "Bedlington_terrier                 5\n",
       "Bernese_mountain_dog              10\n",
       "Blenheim_spaniel                  11\n",
       "Border_collie                     12\n",
       "Border_terrier                     7\n",
       "Boston_bull                        9\n",
       "Brabancon_griffon                  3\n",
       "Brittany_spaniel                   7\n",
       "Cardigan                          19\n",
       "Chesapeake_Bay_retriever          23\n",
       "Chihuahua                         83\n",
       "Christmas_stocking                 3\n",
       "Dandie_Dinmont                     6\n",
       "Doberman                           8\n",
       "Egyptian_cat                       1\n",
       "English_setter                     8\n",
       "English_springer                  10\n",
       "EntleBucher                        1\n",
       "                                  ..\n",
       "toy_poodle                        39\n",
       "toy_terrier                        2\n",
       "toyshop                            2\n",
       "traffic_light                      1\n",
       "triceratops                        3\n",
       "tricycle                           1\n",
       "trombone                           1\n",
       "tub                                7\n",
       "tusker                             2\n",
       "upright                            2\n",
       "vacuum                             3\n",
       "vizsla                            13\n",
       "walking_stick                      1\n",
       "wallaby                            2\n",
       "washbasin                          3\n",
       "washer                             1\n",
       "water_bottle                       1\n",
       "water_buffalo                      1\n",
       "weasel                             2\n",
       "web_site                          19\n",
       "whippet                            9\n",
       "white_wolf                         3\n",
       "wild_boar                          1\n",
       "window_shade                       3\n",
       "wire-haired_fox_terrier            2\n",
       "wombat                             4\n",
       "wood_rabbit                        3\n",
       "wooden_spoon                       1\n",
       "wool                               2\n",
       "zebra                              1\n",
       "Name: p1, Length: 378, dtype: int64"
      ]
     },
     "execution_count": 13,
     "metadata": {},
     "output_type": "execute_result"
    }
   ],
   "source": [
    "# check p1 values\n",
    "image_prediction['p1'].value_counts().sort_index()"
   ]
  },
  {
   "cell_type": "markdown",
   "metadata": {},
   "source": [
    "<span style=\"color:blue\">Observations</span>\n",
    "- <span style=\"color:blue\">Inaccurate dog breeds' names such as web_site and vacuum</span>\n",
    "- <span style=\"color:blue\">Non-meaningful column name p1 </span>"
   ]
  },
  {
   "cell_type": "markdown",
   "metadata": {},
   "source": [
    "###### Twitter api data"
   ]
  },
  {
   "cell_type": "code",
   "execution_count": 14,
   "metadata": {},
   "outputs": [
    {
     "data": {
      "text/html": [
       "<div>\n",
       "<style scoped>\n",
       "    .dataframe tbody tr th:only-of-type {\n",
       "        vertical-align: middle;\n",
       "    }\n",
       "\n",
       "    .dataframe tbody tr th {\n",
       "        vertical-align: top;\n",
       "    }\n",
       "\n",
       "    .dataframe thead th {\n",
       "        text-align: right;\n",
       "    }\n",
       "</style>\n",
       "<table border=\"1\" class=\"dataframe\">\n",
       "  <thead>\n",
       "    <tr style=\"text-align: right;\">\n",
       "      <th></th>\n",
       "      <th>id</th>\n",
       "      <th>retweet_count</th>\n",
       "      <th>favorite_count</th>\n",
       "    </tr>\n",
       "  </thead>\n",
       "  <tbody>\n",
       "    <tr>\n",
       "      <th>790</th>\n",
       "      <td>771380798096281600</td>\n",
       "      <td>5149</td>\n",
       "      <td>10579</td>\n",
       "    </tr>\n",
       "    <tr>\n",
       "      <th>1524</th>\n",
       "      <td>689275259254616065</td>\n",
       "      <td>243</td>\n",
       "      <td>1140</td>\n",
       "    </tr>\n",
       "    <tr>\n",
       "      <th>1364</th>\n",
       "      <td>700462010979500032</td>\n",
       "      <td>1777</td>\n",
       "      <td>4109</td>\n",
       "    </tr>\n",
       "  </tbody>\n",
       "</table>\n",
       "</div>"
      ],
      "text/plain": [
       "                      id  retweet_count  favorite_count\n",
       "790   771380798096281600           5149           10579\n",
       "1524  689275259254616065            243            1140\n",
       "1364  700462010979500032           1777            4109"
      ]
     },
     "execution_count": 14,
     "metadata": {},
     "output_type": "execute_result"
    }
   ],
   "source": [
    "# visually inspect data\n",
    "twitter_api.sample(3)"
   ]
  },
  {
   "cell_type": "code",
   "execution_count": 15,
   "metadata": {},
   "outputs": [
    {
     "name": "stdout",
     "output_type": "stream",
     "text": [
      "<class 'pandas.core.frame.DataFrame'>\n",
      "RangeIndex: 2331 entries, 0 to 2330\n",
      "Data columns (total 3 columns):\n",
      "id                2331 non-null int64\n",
      "retweet_count     2331 non-null int64\n",
      "favorite_count    2331 non-null int64\n",
      "dtypes: int64(3)\n",
      "memory usage: 54.7 KB\n"
     ]
    }
   ],
   "source": [
    "twitter_api.info()"
   ]
  },
  {
   "cell_type": "code",
   "execution_count": 16,
   "metadata": {},
   "outputs": [
    {
     "data": {
      "text/plain": [
       "id                2331\n",
       "retweet_count     1694\n",
       "favorite_count    1982\n",
       "dtype: int64"
      ]
     },
     "execution_count": 16,
     "metadata": {},
     "output_type": "execute_result"
    }
   ],
   "source": [
    "twitter_api.nunique()"
   ]
  },
  {
   "cell_type": "code",
   "execution_count": 17,
   "metadata": {},
   "outputs": [
    {
     "data": {
      "text/plain": [
       "id                0\n",
       "retweet_count     0\n",
       "favorite_count    0\n",
       "dtype: int64"
      ]
     },
     "execution_count": 17,
     "metadata": {},
     "output_type": "execute_result"
    }
   ],
   "source": [
    "# check number of null value\n",
    "twitter_api.isnull().sum()"
   ]
  },
  {
   "cell_type": "markdown",
   "metadata": {},
   "source": [
    "<span style=\"color:blue\">Observations</span>\n",
    "- <span style=\"color:blue\">Missing tweets (2331 id vs. 2356 tweet ids in the tweet_archive dataset)</span>\n",
    "- <span style=\"color:blue\">Inconsistent column name (id vs. tweet_id)</span>"
   ]
  },
  {
   "cell_type": "markdown",
   "metadata": {},
   "source": [
    "<a id='quality'></a>\n",
    "### Quality Issues Summary"
   ]
  },
  {
   "cell_type": "markdown",
   "metadata": {},
   "source": [
    "*Invalid information*\n",
    "- Multiple dog stages in one tweet in twitter_archive\n",
    "- Invalid denominators in twitter_archive(values other than 10)\n",
    "- Invalid numerators in twitter_archive(large values such as 1776 and 666)\n",
    "\n",
    "*Inaccurate information*\n",
    "- Retweets exist in twitter_archive, which we don't want for this analysis\n",
    "- Inaccurate names in twitter_archive such as 'a', 'an', 'by','very'\n",
    "- there are 66 possible retweets in image_predition\n",
    "- Inaccurate dog breeds' names in image_predition such as web_site and vacuum\n",
    "- Non-meaningful column name p1 in image_predition\n",
    "\n",
    "*Erroneous datatypes*\n",
    "- 'in_reply_to_status_id' should be integer instead of float\n",
    "- 'in_reply_to_user_id' should be integer instead of float\n",
    "- 'timestamp' should be DateTime instead of 'object'\n",
    "- 'retweeted_status_id' should be integer instead of float\n",
    "- 'retweeted_status_user_id' should be integer instead of float\n",
    "- 'retweeted_status_timestamp' should be DateTime instead of 'object'\n",
    "\n",
    "*Missing information*\n",
    "- Missing stage information in twitter_archive: 'None' for 'doggo', 'floofer', 'pupper', and 'puppo'\n",
    "- Missing information for some columns in twitter_archive(ie. 'NaN)\n",
    "- missing expanded_urls in twitter_archive(2297 vs. 2356). Each tweets should have a unique url\n",
    "- missing imformation in image_predition(2075 tweet_id vs. 2356 tweet id in the tweet_archive data)\n",
    "- missing image in image_predition(2009 jpg_url vs. 2075 tweet id)\n",
    "- Missing tweets in twitter_api (2331 id vs. 2356 tweet ids in the tweet_archive dataset)\n",
    "\n",
    "*Formatting issues*\n",
    "- It'd be not easy to analyze timestamp for its long format in twitter_archive\n",
    "- 'source' and 'text' is not clear and readable in twitter_archive\n",
    "- Dog breeds' names are not consistently in upper or lowercase for p1, p2, and p3 in image_predition\n",
    "- Inconsistent column name ('id' in twitter_api and 'tweet_id' in other datasets)."
   ]
  },
  {
   "cell_type": "markdown",
   "metadata": {},
   "source": [
    "<a id='tidiness'></a>\n",
    "### Tidiness Issues Summary"
   ]
  },
  {
   "cell_type": "markdown",
   "metadata": {},
   "source": [
    "- 4 columns represent the same variable(dog stage) in twitter_archive: doggo, floofer, pupper, puppo\n",
    "- All three dataset contains information for each tweet id"
   ]
  },
  {
   "cell_type": "markdown",
   "metadata": {},
   "source": [
    "***"
   ]
  },
  {
   "cell_type": "markdown",
   "metadata": {},
   "source": [
    "<a id='clean'></a>\n",
    "## Cleaning Data"
   ]
  },
  {
   "cell_type": "code",
   "execution_count": 18,
   "metadata": {},
   "outputs": [],
   "source": [
    "# make copies of all dataframes for cleaning\n",
    "archive_clean = twitter_archive.copy()\n",
    "prediction_clean = image_prediction.copy()\n",
    "api_clean = twitter_api.copy()"
   ]
  },
  {
   "cell_type": "markdown",
   "metadata": {},
   "source": [
    "***"
   ]
  },
  {
   "cell_type": "markdown",
   "metadata": {},
   "source": [
    "**Issue 1 (Quality)**: Inconsistent column name ('id' in twitter_api and 'tweet_id' in other datasets).\n",
    "\n",
    "**Solution**: Change the name 'id' to 'tweet_id'"
   ]
  },
  {
   "cell_type": "code",
   "execution_count": 19,
   "metadata": {},
   "outputs": [],
   "source": [
    "# CODE\n",
    "api_clean.rename(columns={\"id\": \"tweet_id\"}, inplace=True)"
   ]
  },
  {
   "cell_type": "code",
   "execution_count": 20,
   "metadata": {},
   "outputs": [
    {
     "data": {
      "text/html": [
       "<div>\n",
       "<style scoped>\n",
       "    .dataframe tbody tr th:only-of-type {\n",
       "        vertical-align: middle;\n",
       "    }\n",
       "\n",
       "    .dataframe tbody tr th {\n",
       "        vertical-align: top;\n",
       "    }\n",
       "\n",
       "    .dataframe thead th {\n",
       "        text-align: right;\n",
       "    }\n",
       "</style>\n",
       "<table border=\"1\" class=\"dataframe\">\n",
       "  <thead>\n",
       "    <tr style=\"text-align: right;\">\n",
       "      <th></th>\n",
       "      <th>tweet_id</th>\n",
       "      <th>retweet_count</th>\n",
       "      <th>favorite_count</th>\n",
       "    </tr>\n",
       "  </thead>\n",
       "  <tbody>\n",
       "    <tr>\n",
       "      <th>0</th>\n",
       "      <td>892420643555336193</td>\n",
       "      <td>7696</td>\n",
       "      <td>36145</td>\n",
       "    </tr>\n",
       "  </tbody>\n",
       "</table>\n",
       "</div>"
      ],
      "text/plain": [
       "             tweet_id  retweet_count  favorite_count\n",
       "0  892420643555336193           7696           36145"
      ]
     },
     "execution_count": 20,
     "metadata": {},
     "output_type": "execute_result"
    }
   ],
   "source": [
    "# FINAL TEST\n",
    "api_clean.head(1)"
   ]
  },
  {
   "cell_type": "markdown",
   "metadata": {},
   "source": [
    "***"
   ]
  },
  {
   "cell_type": "markdown",
   "metadata": {},
   "source": [
    "**Issue 2 (Tidiness)**: 'twitter_archive', 'image_prediction', and 'Twitter_api' are datasets containing information with respect to each tweet id\n",
    "\n",
    "**Solution**: combine all three dataframes on 'tweet_id'"
   ]
  },
  {
   "cell_type": "code",
   "execution_count": 21,
   "metadata": {},
   "outputs": [],
   "source": [
    "# CODE\n",
    "dummy = pd.merge(left = archive_clean, \n",
    "                 right = prediction_clean,\n",
    "                 left_on = 'tweet_id', \n",
    "                 right_on = 'tweet_id', \n",
    "                 how = 'inner')\n",
    "\n",
    "tweets = pd.merge(left = dummy, \n",
    "                  right = api_clean,\n",
    "                  left_on = 'tweet_id', \n",
    "                  right_on = 'tweet_id', \n",
    "                  how = 'inner')"
   ]
  },
  {
   "cell_type": "code",
   "execution_count": 22,
   "metadata": {},
   "outputs": [
    {
     "data": {
      "text/plain": [
       "Index(['tweet_id', 'in_reply_to_status_id', 'in_reply_to_user_id', 'timestamp',\n",
       "       'source', 'text', 'retweeted_status_id', 'retweeted_status_user_id',\n",
       "       'retweeted_status_timestamp', 'expanded_urls', 'rating_numerator',\n",
       "       'rating_denominator', 'name', 'doggo', 'floofer', 'pupper', 'puppo',\n",
       "       'jpg_url', 'img_num', 'p1', 'p1_conf', 'p1_dog', 'p2', 'p2_conf',\n",
       "       'p2_dog', 'p3', 'p3_conf', 'p3_dog', 'retweet_count', 'favorite_count'],\n",
       "      dtype='object')"
      ]
     },
     "execution_count": 22,
     "metadata": {},
     "output_type": "execute_result"
    }
   ],
   "source": [
    "# FINAL TEST\n",
    "tweets.columns"
   ]
  },
  {
   "cell_type": "markdown",
   "metadata": {},
   "source": [
    "***"
   ]
  },
  {
   "cell_type": "markdown",
   "metadata": {},
   "source": [
    "**Issue 3 (Quality)**: Multiple dog stages in one tweet in twitter_archive\n",
    "\n",
    "**Solution**: Replace the multiple dog stages with 'None'"
   ]
  },
  {
   "cell_type": "code",
   "execution_count": 23,
   "metadata": {},
   "outputs": [
    {
     "data": {
      "text/html": [
       "<div>\n",
       "<style scoped>\n",
       "    .dataframe tbody tr th:only-of-type {\n",
       "        vertical-align: middle;\n",
       "    }\n",
       "\n",
       "    .dataframe tbody tr th {\n",
       "        vertical-align: top;\n",
       "    }\n",
       "\n",
       "    .dataframe thead th {\n",
       "        text-align: right;\n",
       "    }\n",
       "</style>\n",
       "<table border=\"1\" class=\"dataframe\">\n",
       "  <thead>\n",
       "    <tr style=\"text-align: right;\">\n",
       "      <th></th>\n",
       "      <th>doggo</th>\n",
       "      <th>floofer</th>\n",
       "      <th>pupper</th>\n",
       "      <th>puppo</th>\n",
       "      <th>count</th>\n",
       "    </tr>\n",
       "  </thead>\n",
       "  <tbody>\n",
       "    <tr>\n",
       "      <th>0</th>\n",
       "      <td>None</td>\n",
       "      <td>None</td>\n",
       "      <td>None</td>\n",
       "      <td>None</td>\n",
       "      <td>1741</td>\n",
       "    </tr>\n",
       "    <tr>\n",
       "      <th>1</th>\n",
       "      <td>None</td>\n",
       "      <td>None</td>\n",
       "      <td>None</td>\n",
       "      <td>puppo</td>\n",
       "      <td>23</td>\n",
       "    </tr>\n",
       "    <tr>\n",
       "      <th>2</th>\n",
       "      <td>None</td>\n",
       "      <td>None</td>\n",
       "      <td>pupper</td>\n",
       "      <td>None</td>\n",
       "      <td>210</td>\n",
       "    </tr>\n",
       "    <tr>\n",
       "      <th>3</th>\n",
       "      <td>None</td>\n",
       "      <td>floofer</td>\n",
       "      <td>None</td>\n",
       "      <td>None</td>\n",
       "      <td>7</td>\n",
       "    </tr>\n",
       "    <tr>\n",
       "      <th>4</th>\n",
       "      <td>doggo</td>\n",
       "      <td>None</td>\n",
       "      <td>None</td>\n",
       "      <td>None</td>\n",
       "      <td>65</td>\n",
       "    </tr>\n",
       "    <tr>\n",
       "      <th>5</th>\n",
       "      <td>doggo</td>\n",
       "      <td>None</td>\n",
       "      <td>None</td>\n",
       "      <td>puppo</td>\n",
       "      <td>1</td>\n",
       "    </tr>\n",
       "    <tr>\n",
       "      <th>6</th>\n",
       "      <td>doggo</td>\n",
       "      <td>None</td>\n",
       "      <td>pupper</td>\n",
       "      <td>None</td>\n",
       "      <td>11</td>\n",
       "    </tr>\n",
       "    <tr>\n",
       "      <th>7</th>\n",
       "      <td>doggo</td>\n",
       "      <td>floofer</td>\n",
       "      <td>None</td>\n",
       "      <td>None</td>\n",
       "      <td>1</td>\n",
       "    </tr>\n",
       "  </tbody>\n",
       "</table>\n",
       "</div>"
      ],
      "text/plain": [
       "   doggo  floofer  pupper  puppo  count\n",
       "0   None     None    None   None   1741\n",
       "1   None     None    None  puppo     23\n",
       "2   None     None  pupper   None    210\n",
       "3   None  floofer    None   None      7\n",
       "4  doggo     None    None   None     65\n",
       "5  doggo     None    None  puppo      1\n",
       "6  doggo     None  pupper   None     11\n",
       "7  doggo  floofer    None   None      1"
      ]
     },
     "execution_count": 23,
     "metadata": {},
     "output_type": "execute_result"
    }
   ],
   "source": [
    "# TEST\n",
    "# check how many tweets have multiple dog stages\n",
    "tweets.groupby([\"doggo\", \"floofer\", \"pupper\", \"puppo\"]).size().reset_index().rename(columns={0: \"count\"})"
   ]
  },
  {
   "cell_type": "code",
   "execution_count": 24,
   "metadata": {},
   "outputs": [],
   "source": [
    "# CODE\n",
    "# extract the index number for tweets that have multiple dog stages\n",
    "doggo_puppo_index = tweets.loc[(tweets['doggo'] == 'doggo') & (tweets['puppo'] == 'puppo')].index.values\n",
    "doggo_pupper_index = tweets.loc[(tweets['doggo'] == 'doggo') & (tweets['pupper'] == 'pupper')].index.values\n",
    "doggo_floofer_index = tweets.loc[(tweets['doggo'] == 'doggo') & (tweets['floofer'] == 'floofer')].index.values\n",
    "\n",
    "# place all index number in an array\n",
    "id_array = np.concatenate([doggo_puppo_index, doggo_pupper_index, doggo_floofer_index])\n",
    "\n",
    "# replace the multiple dog stages with 'None'\n",
    "for i in id_array:\n",
    "    tweets.loc[i, 'doggo'] = 'None'\n",
    "    tweets.loc[i, 'floofer'] = 'None'\n",
    "    tweets.loc[i, 'pupper'] = 'None'\n",
    "    tweets.loc[i, 'puppo'] = 'None'"
   ]
  },
  {
   "cell_type": "code",
   "execution_count": 25,
   "metadata": {},
   "outputs": [
    {
     "data": {
      "text/html": [
       "<div>\n",
       "<style scoped>\n",
       "    .dataframe tbody tr th:only-of-type {\n",
       "        vertical-align: middle;\n",
       "    }\n",
       "\n",
       "    .dataframe tbody tr th {\n",
       "        vertical-align: top;\n",
       "    }\n",
       "\n",
       "    .dataframe thead th {\n",
       "        text-align: right;\n",
       "    }\n",
       "</style>\n",
       "<table border=\"1\" class=\"dataframe\">\n",
       "  <thead>\n",
       "    <tr style=\"text-align: right;\">\n",
       "      <th></th>\n",
       "      <th>doggo</th>\n",
       "      <th>floofer</th>\n",
       "      <th>pupper</th>\n",
       "      <th>puppo</th>\n",
       "      <th>count</th>\n",
       "    </tr>\n",
       "  </thead>\n",
       "  <tbody>\n",
       "    <tr>\n",
       "      <th>0</th>\n",
       "      <td>None</td>\n",
       "      <td>None</td>\n",
       "      <td>None</td>\n",
       "      <td>None</td>\n",
       "      <td>1754</td>\n",
       "    </tr>\n",
       "    <tr>\n",
       "      <th>1</th>\n",
       "      <td>None</td>\n",
       "      <td>None</td>\n",
       "      <td>None</td>\n",
       "      <td>puppo</td>\n",
       "      <td>23</td>\n",
       "    </tr>\n",
       "    <tr>\n",
       "      <th>2</th>\n",
       "      <td>None</td>\n",
       "      <td>None</td>\n",
       "      <td>pupper</td>\n",
       "      <td>None</td>\n",
       "      <td>210</td>\n",
       "    </tr>\n",
       "    <tr>\n",
       "      <th>3</th>\n",
       "      <td>None</td>\n",
       "      <td>floofer</td>\n",
       "      <td>None</td>\n",
       "      <td>None</td>\n",
       "      <td>7</td>\n",
       "    </tr>\n",
       "    <tr>\n",
       "      <th>4</th>\n",
       "      <td>doggo</td>\n",
       "      <td>None</td>\n",
       "      <td>None</td>\n",
       "      <td>None</td>\n",
       "      <td>65</td>\n",
       "    </tr>\n",
       "  </tbody>\n",
       "</table>\n",
       "</div>"
      ],
      "text/plain": [
       "   doggo  floofer  pupper  puppo  count\n",
       "0   None     None    None   None   1754\n",
       "1   None     None    None  puppo     23\n",
       "2   None     None  pupper   None    210\n",
       "3   None  floofer    None   None      7\n",
       "4  doggo     None    None   None     65"
      ]
     },
     "execution_count": 25,
     "metadata": {},
     "output_type": "execute_result"
    }
   ],
   "source": [
    "# FINAL TEST\n",
    "tweets.groupby([\"doggo\", \"floofer\", \"pupper\", \"puppo\"]).size().reset_index().rename(columns={0: \"count\"})"
   ]
  },
  {
   "cell_type": "markdown",
   "metadata": {},
   "source": [
    "***"
   ]
  },
  {
   "cell_type": "markdown",
   "metadata": {},
   "source": [
    "**Issue 4 (Tidiness)**: 4 columns represent the same variable(dog stage): doggo, floofer, pupper, puppo\n",
    "\n",
    "**Solution**:combine the 4 columns into a variable column 'dag_stage'"
   ]
  },
  {
   "cell_type": "code",
   "execution_count": 26,
   "metadata": {},
   "outputs": [],
   "source": [
    "# CODE\n",
    "# make a ssubset of data only contains dog stage information\n",
    "stage_only = tweets[['doggo', 'floofer', 'pupper', 'puppo']]\n",
    "\n",
    "# replace all the 'None's with empty string\n",
    "stage_replace = stage_only.replace(to_replace ='None', value ='') \n",
    "\n",
    "# create a new column 'dog_stage' in the tweets dataframe\n",
    "tweets['dog_stage'] = stage_replace.doggo + stage_replace.floofer + stage_replace.pupper + stage_replace.puppo\n",
    "\n",
    "# drop the original dog stage columns \n",
    "tweets = tweets.drop(['doggo', 'floofer', 'pupper', 'puppo'], axis=1)"
   ]
  },
  {
   "cell_type": "code",
   "execution_count": 27,
   "metadata": {},
   "outputs": [
    {
     "data": {
      "text/plain": [
       "dog_stage\n",
       "           1754\n",
       "doggo        65\n",
       "floofer       7\n",
       "pupper      210\n",
       "puppo        23\n",
       "dtype: int64"
      ]
     },
     "execution_count": 27,
     "metadata": {},
     "output_type": "execute_result"
    }
   ],
   "source": [
    "# FINAL TEST\n",
    "tweets.groupby(['dog_stage']).size()"
   ]
  },
  {
   "cell_type": "markdown",
   "metadata": {},
   "source": [
    "***"
   ]
  },
  {
   "cell_type": "markdown",
   "metadata": {},
   "source": [
    "**Issue 5 (Quality)**: Retweets exist in data based on the following findings\n",
    "- 'retweeted_status_id' should be Null or NaN instead of 181 unique values\n",
    "- 'retweeted_status_user_id' should be null or NaN instead of 25 unique values\n",
    "- 'retweeted_status_timestamp' should be null or Nan instead of 181 unique values\n",
    "- 66 retweets exist in the dataset (duplicated jpg_url)\n",
    "\n",
    "**Solution**: Remove all the retweets"
   ]
  },
  {
   "cell_type": "code",
   "execution_count": 28,
   "metadata": {},
   "outputs": [],
   "source": [
    "# CODE\n",
    "# keep data where the 'retweeted_status_id' is NaN\n",
    "tweets = tweets[np.isnan(tweets.retweeted_status_id)]\n",
    "\n",
    "# remove rows that have duplicated jpg_url\n",
    "tweets.drop_duplicates(subset = 'jpg_url', keep = 'first', inplace = True)"
   ]
  },
  {
   "cell_type": "code",
   "execution_count": 29,
   "metadata": {},
   "outputs": [
    {
     "name": "stdout",
     "output_type": "stream",
     "text": [
      "<class 'pandas.core.frame.DataFrame'>\n",
      "Int64Index: 1987 entries, 0 to 2058\n",
      "Data columns (total 3 columns):\n",
      "retweeted_status_id           0 non-null float64\n",
      "retweeted_status_user_id      0 non-null float64\n",
      "retweeted_status_timestamp    0 non-null object\n",
      "dtypes: float64(2), object(1)\n",
      "memory usage: 62.1+ KB\n"
     ]
    }
   ],
   "source": [
    "# FINAL TEST 1\n",
    "tweets[['retweeted_status_id', 'retweeted_status_user_id', 'retweeted_status_timestamp']].info()"
   ]
  },
  {
   "cell_type": "code",
   "execution_count": 30,
   "metadata": {},
   "outputs": [
    {
     "data": {
      "text/plain": [
       "0"
      ]
     },
     "execution_count": 30,
     "metadata": {},
     "output_type": "execute_result"
    }
   ],
   "source": [
    "# FINAL TEST 2\n",
    "sum(tweets['jpg_url'].duplicated())"
   ]
  },
  {
   "cell_type": "code",
   "execution_count": 31,
   "metadata": {},
   "outputs": [
    {
     "data": {
      "text/plain": [
       "1987"
      ]
     },
     "execution_count": 31,
     "metadata": {},
     "output_type": "execute_result"
    }
   ],
   "source": [
    "# FINAL TEST 3\n",
    "tweets['jpg_url'].nunique()"
   ]
  },
  {
   "cell_type": "markdown",
   "metadata": {},
   "source": [
    "***"
   ]
  },
  {
   "cell_type": "markdown",
   "metadata": {},
   "source": [
    "**Issue 6 (Quality)**: Invalid information: \n",
    "- Invalid denominators (values other than 10)\n",
    "- Invalid numerators (large values such as 1776 and 666)\n",
    "\n",
    "**Solution**:\n",
    "- create a new column to show integer ratings which their default denominators are 10\n",
    "- delete the original rating numerator and denominator columns"
   ]
  },
  {
   "cell_type": "code",
   "execution_count": 32,
   "metadata": {},
   "outputs": [
    {
     "data": {
      "text/plain": [
       "['This is Bella. She hopes her smile made you smile. If not, she is also offering you her favorite monkey. 13.5/10 https://t.co/qjrljjt948',\n",
       " \"This is Logan, the Chow who lived. He solemnly swears he's up to lots of good. H*ckin magical af 9.75/10 https://t.co/yBO5wuqaPS\",\n",
       " \"This is Sophie. She's a Jubilant Bush Pupper. Super h*ckin rare. Appears at random just to smile at the locals. 11.27/10 would smile back https://t.co/QFaUiIHxHq\",\n",
       " 'Here we have uncovered an entire battalion of holiday puppers. Average of 11.26/10 https://t.co/eNm2S6p9BD']"
      ]
     },
     "execution_count": 32,
     "metadata": {},
     "output_type": "execute_result"
    }
   ],
   "source": [
    "# CODE 1\n",
    "# source: https://stackoverflow.com/questions/4666973/how-to-extract-the-substring-between-two-markers\n",
    "\n",
    "# since we have removed some rows previously, reset the index for further analysis\n",
    "tweets = tweets.reset_index(drop=True)\n",
    "\n",
    "# create empty arrays to store the ratings that have decimal numbers\n",
    "rating_decimal_numerator = []\n",
    "rating_decimal_denominator = []\n",
    "rating_decimal_index = []\n",
    "rating_decimal_text = []\n",
    "\n",
    "# read through the string in each tweet and search for rating with decimal\n",
    "# store the found decimal ratings into the empty arrays\n",
    "for i, text in tweets['text'].iteritems():\n",
    "    if bool(re.search('\\d+\\.\\d+\\/\\d+', text)):\n",
    "        rating_decimal_index.append(i)\n",
    "        rating_decimal_text.append(text)\n",
    "        rating_decimal_numerator.append((re.search('\\d+\\.\\d+\\/\\d+', text).group()).split('/', 1)[0])\n",
    "        rating_decimal_denominator.append((re.search('\\d+\\.\\d+\\/\\d+', text).group()).split('/', 1)[1])\n",
    "        \n",
    "# change the extracted strings to floats and store them as numpy arrays\n",
    "rating_decimal_numerator = np.array([float(k) for k in rating_decimal_numerator])\n",
    "rating_decimal_denominator = np.array([float(k) for k in rating_decimal_denominator])\n",
    "rating_decimal_index = np.array(rating_decimal_index)\n",
    "\n",
    "# check if ratings with decimal numbers are captured  \n",
    "rating_decimal_text"
   ]
  },
  {
   "cell_type": "code",
   "execution_count": 33,
   "metadata": {},
   "outputs": [
    {
     "data": {
      "text/plain": [
       "array([  39,  499,  548, 1368])"
      ]
     },
     "execution_count": 33,
     "metadata": {},
     "output_type": "execute_result"
    }
   ],
   "source": [
    "# CODE 2\n",
    "# create empty arrays to store all the ratings as integers\n",
    "rating_int_numerator = []\n",
    "rating_int_denominator = []\n",
    "rating_int_index = []\n",
    "\n",
    "# read through the string in each tweet and search for fractional slash\n",
    "# store the found ratings into the empty arrays\n",
    "# if a decimal rating found (eg. 9.75/10), raiting_int_numerator will be 75, and raiting_int_denominator will be 10\n",
    "for i, text in tweets['text'].iteritems():\n",
    "    if bool(re.search('\\d+\\/\\d+', text)):\n",
    "        rating_int_numerator.append((re.search('\\d+\\/\\d+', text).group()).split('/', 1)[0])\n",
    "        rating_int_denominator.append((re.search('\\d+\\/\\d+', text).group()).split('/', 1)[1])\n",
    "        rating_int_index.append(i)\n",
    "\n",
    "# change the extracted strings to floats and store them as numpy arrays\n",
    "rating_int_numerator = np.array([float(i) for i in rating_int_numerator])\n",
    "rating_int_denominator = np.array([float(i) for i in rating_int_denominator])\n",
    "rating_int_index = np.array(rating_int_index)\n",
    "\n",
    "# raiting_int_index includes rating_decimal_index\n",
    "# so find out the index exist in both arrays because \n",
    "# for a same index, it will show 75 in rating_int_numerator (wrong) and 9.75 in rating_decimal_numerator (correct)\n",
    "to_delete = np.intersect1d(rating_decimal_index, rating_int_index)\n",
    "to_delete"
   ]
  },
  {
   "cell_type": "code",
   "execution_count": 34,
   "metadata": {},
   "outputs": [
    {
     "data": {
      "text/plain": [
       "array([], dtype=int64)"
      ]
     },
     "execution_count": 34,
     "metadata": {},
     "output_type": "execute_result"
    }
   ],
   "source": [
    "# CODE 3\n",
    "# delete ratings that are incorrectly extracted\n",
    "rating_int_numerator = np.delete(rating_int_numerator, to_delete)\n",
    "rating_int_denominator = np.delete(rating_int_denominator, to_delete)\n",
    "rating_int_index = np.delete(rating_int_index, to_delete)\n",
    "\n",
    "# confirm both arrays do not share same index\n",
    "np.intersect1d(rating_decimal_index, rating_int_index)"
   ]
  },
  {
   "cell_type": "code",
   "execution_count": 35,
   "metadata": {},
   "outputs": [],
   "source": [
    "# CODE 4\n",
    "# create three arrays containing all the ratings wrt. numerator, denominator, and index\n",
    "rating_numerator_new = np.concatenate([rating_decimal_numerator, rating_int_numerator])\n",
    "rating_denominator_new = np.concatenate([rating_decimal_denominator, rating_int_denominator])\n",
    "rating_index_new = np.concatenate([rating_decimal_index, rating_int_index])\n",
    "\n",
    "# convert all the ratings to 10 rating scale\n",
    "rating_new = np.rint(rating_numerator_new * 10 / rating_denominator_new)\n",
    "\n",
    "# place the converted ratings in a dataframe\n",
    "rating_data = {'new_rating' : pd.Series(rating_new, index = rating_index_new)}\n",
    "rating_data = pd.DataFrame(rating_data) \n",
    "rating_data.sort_index(inplace=True)\n",
    "rating_data['new_rating'] = rating_data['new_rating'].apply(np.int64)\n",
    "\n",
    "# delete tweets that have invalid ratings (too large or too small)\n",
    "tweets = tweets.merge(rating_data, left_index=True, right_index=True)\n",
    "tweets = tweets.drop(tweets[(tweets['new_rating'] > 20) | (tweets['new_rating'] < 1)].index)\n",
    "\n",
    "# reset the dataframe index for further analysis\n",
    "tweets = tweets.reset_index(drop=True)\n",
    "tweets = tweets.drop(['rating_numerator', 'rating_denominator', 'retweeted_status_id', 'retweeted_status_user_id', 'retweeted_status_timestamp'], axis=1)"
   ]
  },
  {
   "cell_type": "code",
   "execution_count": 36,
   "metadata": {},
   "outputs": [
    {
     "name": "stdout",
     "output_type": "stream",
     "text": [
      "[12, 10, 11, 13, 9, 8, 7, 14, 6, 5, 3, 4, 2, 1]\n"
     ]
    }
   ],
   "source": [
    "# FINAL TEST\n",
    "print(tweets['new_rating'].value_counts().index.tolist())"
   ]
  },
  {
   "cell_type": "markdown",
   "metadata": {},
   "source": [
    "***"
   ]
  },
  {
   "cell_type": "markdown",
   "metadata": {},
   "source": [
    "**Issue 7 (Quality)**: 'source' is not clear and readable in twitter_archive\n",
    "\n",
    "**Solution**: Extract 'Twitter for iPhone' from the entire string and replace the original string in the source column"
   ]
  },
  {
   "cell_type": "code",
   "execution_count": 37,
   "metadata": {},
   "outputs": [],
   "source": [
    "# CODE\n",
    "# source: Hands-on Exploratory Data Analysis with Python by S.Mukhiya and U.Ahmed\n",
    "# extract the desired words and replace the entire string in the 'source' column\n",
    "tweets['source'] = tweets['source'].apply(lambda x: re.findall(r'>(.*)<', x)[0])"
   ]
  },
  {
   "cell_type": "code",
   "execution_count": 38,
   "metadata": {},
   "outputs": [
    {
     "data": {
      "text/plain": [
       "1320    Twitter for iPhone\n",
       "1003    Twitter for iPhone\n",
       "1912    Twitter for iPhone\n",
       "1136    Twitter for iPhone\n",
       "823     Twitter for iPhone\n",
       "Name: source, dtype: object"
      ]
     },
     "execution_count": 38,
     "metadata": {},
     "output_type": "execute_result"
    }
   ],
   "source": [
    "# FINAL TEST\n",
    "tweets.source.sample(5)"
   ]
  },
  {
   "cell_type": "markdown",
   "metadata": {},
   "source": [
    "***"
   ]
  },
  {
   "cell_type": "markdown",
   "metadata": {},
   "source": [
    "**Issue 8 (Quality)**: Some columns are not needed for the analysis\n",
    "\n",
    "**Solution**: Drop the undesired columns"
   ]
  },
  {
   "cell_type": "code",
   "execution_count": 39,
   "metadata": {},
   "outputs": [
    {
     "data": {
      "text/plain": [
       "Index(['tweet_id', 'in_reply_to_status_id', 'in_reply_to_user_id', 'timestamp',\n",
       "       'source', 'text', 'expanded_urls', 'name', 'jpg_url', 'img_num', 'p1',\n",
       "       'p1_conf', 'p1_dog', 'p2', 'p2_conf', 'p2_dog', 'p3', 'p3_conf',\n",
       "       'p3_dog', 'retweet_count', 'favorite_count', 'dog_stage', 'new_rating'],\n",
       "      dtype='object')"
      ]
     },
     "execution_count": 39,
     "metadata": {},
     "output_type": "execute_result"
    }
   ],
   "source": [
    "# TEST\n",
    "tweets.columns"
   ]
  },
  {
   "cell_type": "code",
   "execution_count": 40,
   "metadata": {},
   "outputs": [],
   "source": [
    "# CODE\n",
    "# keep the desired columns\n",
    "tweets = tweets[['tweet_id', 'timestamp', 'source', 'name', 'p1', 'p1_dog', 'p1_conf', 'retweet_count', 'favorite_count', 'dog_stage', 'new_rating', 'jpg_url', 'text']]\n",
    "pd.set_option('display.max_columns', None)"
   ]
  },
  {
   "cell_type": "code",
   "execution_count": 41,
   "metadata": {},
   "outputs": [
    {
     "data": {
      "text/plain": [
       "Index(['tweet_id', 'timestamp', 'source', 'name', 'p1', 'p1_dog', 'p1_conf',\n",
       "       'retweet_count', 'favorite_count', 'dog_stage', 'new_rating', 'jpg_url',\n",
       "       'text'],\n",
       "      dtype='object')"
      ]
     },
     "execution_count": 41,
     "metadata": {},
     "output_type": "execute_result"
    }
   ],
   "source": [
    "# FINAL TEST\n",
    "tweets.columns"
   ]
  },
  {
   "cell_type": "markdown",
   "metadata": {},
   "source": [
    "***"
   ]
  },
  {
   "cell_type": "markdown",
   "metadata": {},
   "source": [
    "**Issue 9 (Quality)** Datatype issue - some columns are in wrong datatypes\n",
    "\n",
    "**Solution**: Change columns to correct datatypes"
   ]
  },
  {
   "cell_type": "code",
   "execution_count": 42,
   "metadata": {},
   "outputs": [
    {
     "name": "stdout",
     "output_type": "stream",
     "text": [
      "<class 'pandas.core.frame.DataFrame'>\n",
      "RangeIndex: 1982 entries, 0 to 1981\n",
      "Data columns (total 13 columns):\n",
      "tweet_id          1982 non-null int64\n",
      "timestamp         1982 non-null object\n",
      "source            1982 non-null object\n",
      "name              1982 non-null object\n",
      "p1                1982 non-null object\n",
      "p1_dog            1982 non-null bool\n",
      "p1_conf           1982 non-null float64\n",
      "retweet_count     1982 non-null int64\n",
      "favorite_count    1982 non-null int64\n",
      "dog_stage         1982 non-null object\n",
      "new_rating        1982 non-null int64\n",
      "jpg_url           1982 non-null object\n",
      "text              1982 non-null object\n",
      "dtypes: bool(1), float64(1), int64(4), object(7)\n",
      "memory usage: 187.8+ KB\n"
     ]
    }
   ],
   "source": [
    "# TEST\n",
    "# check datatypes\n",
    "tweets.info()"
   ]
  },
  {
   "cell_type": "code",
   "execution_count": 43,
   "metadata": {},
   "outputs": [],
   "source": [
    "# CODE\n",
    "tweets['timestamp'] = pd.to_datetime(tweets.timestamp)\n",
    "tweets['source'] = tweets['source'].astype('category')\n",
    "tweets['dog_stage'] = tweets['dog_stage'].astype('category')"
   ]
  },
  {
   "cell_type": "code",
   "execution_count": 44,
   "metadata": {},
   "outputs": [
    {
     "name": "stdout",
     "output_type": "stream",
     "text": [
      "<class 'pandas.core.frame.DataFrame'>\n",
      "RangeIndex: 1982 entries, 0 to 1981\n",
      "Data columns (total 13 columns):\n",
      "tweet_id          1982 non-null int64\n",
      "timestamp         1982 non-null datetime64[ns]\n",
      "source            1982 non-null category\n",
      "name              1982 non-null object\n",
      "p1                1982 non-null object\n",
      "p1_dog            1982 non-null bool\n",
      "p1_conf           1982 non-null float64\n",
      "retweet_count     1982 non-null int64\n",
      "favorite_count    1982 non-null int64\n",
      "dog_stage         1982 non-null category\n",
      "new_rating        1982 non-null int64\n",
      "jpg_url           1982 non-null object\n",
      "text              1982 non-null object\n",
      "dtypes: bool(1), category(2), datetime64[ns](1), float64(1), int64(4), object(4)\n",
      "memory usage: 161.0+ KB\n"
     ]
    }
   ],
   "source": [
    "# FINAL TEST\n",
    "tweets.info()"
   ]
  },
  {
   "cell_type": "markdown",
   "metadata": {},
   "source": [
    "***"
   ]
  },
  {
   "cell_type": "markdown",
   "metadata": {},
   "source": [
    "**Issue 10 (Quality)**: Inaccurate names in twitter_archive such as 'a', 'an', 'by','very'. Based on the previous visual inspection, names with the first letter capitalized are more likely actual names\n",
    "\n",
    "**Solution**: Replace all inaccurate names with NaNs"
   ]
  },
  {
   "cell_type": "code",
   "execution_count": 45,
   "metadata": {},
   "outputs": [],
   "source": [
    "# CODE\n",
    "# Store all names with first letter in lowercase in a list\n",
    "lowercase_name = []\n",
    "for name in tweets['name']:\n",
    "    if name[0].islower() and name not in lowercase_name:\n",
    "        lowercase_name.append(name)\n",
    "\n",
    "# replace all names with first letter in lowercase with NaN\n",
    "tweets['name'] = tweets['name'].replace(lowercase_name, np.nan)\n",
    "# replace 'None' with NaN\n",
    "tweets['name'] = tweets['name'].replace('None', np.nan)"
   ]
  },
  {
   "cell_type": "code",
   "execution_count": 46,
   "metadata": {},
   "outputs": [
    {
     "name": "stdout",
     "output_type": "stream",
     "text": [
      "['Oliver', 'Charlie', 'Cooper', 'Penny', 'Tucker', 'Lucy', 'Sadie', 'Winston', 'Lola', 'Toby', 'Daisy', 'Jax', 'Koda', 'Stanley', 'Bella', 'Bo', 'Chester', 'Louis', 'Scout', 'Bailey', 'Leo', 'Rusty', 'Buddy', 'Oscar', 'Dave', 'Milo', 'Jerry', 'Larry', 'Bentley', 'Jack', 'Gary', 'Derek', 'Archie', 'George', 'Oakley', 'Maggie', 'Clarence', 'Cassie', 'Dexter', 'Alfie', 'Brody', 'Winnie', 'Finn', 'Chip', 'Bear', 'Duke', 'Gus', 'Sophie', 'Clark', 'Phil', 'Scooter', 'Reese', 'Bruce', 'Moose', 'Loki', 'Nala', 'Earl', 'Reggie', 'Kyle', 'Jimothy', 'Wilson', 'Sebastian', 'Louie', 'Wallace', 'Vincent', 'Steven', 'Samson', 'Malcolm', 'Zoey', 'Zeke', 'Riley', 'Jeffrey', 'Shadow', 'Rosie', 'Otis', 'Waffles', 'Wyatt', 'Max', 'Walter', 'Sunny', 'Mia', 'Boomer', 'Gizmo', 'Olive', 'Ruby', 'Calvin', 'Beau', 'Ellie', 'Hank', 'Gerald', 'Lily', 'Ollie', 'Romeo', 'Aspen', 'Odie', 'Benedict', 'Sammy', 'Terry', 'Wally', 'Axel', 'Maxaroni', 'Piper', 'Yogi', 'Atlas', 'Sampson', 'Fiona', 'Dash', 'Sandy', 'Indie', 'Bernie', 'Frankie', 'Remington', 'Maximus', 'Sansa', 'Theodore', 'Doc', 'Griffin', 'Harold', 'Phineas', 'Albus', 'Kilo', 'Churlie', 'Kirby', 'Phred', 'Pippa', 'Ted', 'Penelope', 'Moe', 'Chuckles', 'Solomon', 'Chipson', 'Jimison', 'Jesse', 'Coops', 'Kreggory', 'Bob', 'Keith', 'Rufus', 'Ash', 'Bubbles', 'Trooper', 'Linda', 'Carl', 'Marley', 'Jiminy', 'Chet', 'Baxter', 'Cash', 'Belle', 'Jeph', 'Benji', 'Sugar', 'Neptune', 'CeCe', 'Sarge', 'Reginald', 'Herald', 'Eli', 'Luca', 'Nelly', 'Watson', 'Juno', 'Rocky', 'Franklin', 'Lorenzo', 'Lenny', 'Cody', 'Calbert', 'Ava', 'Tyr', 'Panda', 'Herm', 'Finley', 'Doug', 'Kenneth', 'Mister', 'Olivia', 'Lincoln', 'Pickles', 'Rory', 'Crystal', 'Kevin', 'Paisley', 'Lou', 'Lennon', 'Titan', 'Hunter', 'Peaches', 'Colby', 'Misty', 'Thumas', 'Opal', 'Raymond', 'Patrick', 'Roosevelt', 'Hammond', 'Curtis', 'Charles', 'Gabe', 'Hobbes', 'Oliviér', 'Albert', 'Klevin', 'Django', 'Frank', 'Brad', 'Jackson', 'Abby', 'Kreg', 'Dakota', 'Smokey', 'Cupcake', 'Percy', 'Coco', 'Elliot', 'Flávio', 'Bisquick', 'Alice', 'Furzey', 'Ricky', 'Bobb', 'Kanu', 'Murphy', 'Kenny', 'Iroh', 'Dixie', 'Aiden', 'Tove', 'Malikai', 'Nugget', 'Banjo', 'O', 'Vinnie', 'Geno', 'Stubert', 'Al', 'Canela', 'Ralphé', 'Poppy', 'Pumpkin', 'Mary', 'Pablo', 'Tito', 'Aldrick', 'Wishes', 'Akumi', 'Caryl', 'Meera', 'Deacon', 'Pip', 'Cheryl', 'Jeffrie', 'Kellogg', 'Bloo', 'Naphaniel', 'Shaggy', 'Nico', 'Brady', 'JD', 'Erik', 'Klein', 'Brooks', 'Howie', 'Bobbay', 'Stewie', 'Major', 'Billl', 'Heinrich', 'Tuco', 'Darla', 'Shnuggles', 'Grizzwald', 'Clybe', 'Kara', 'Taz', 'Creg', 'Sparky', 'Raphael', 'Keet', 'Storkson', 'Ronnie', 'Swagger', 'Ralphie', 'Mauve', 'Stormy', 'Sephie', 'Kaiya', 'Oreo', 'Wafer', 'Rambo', 'Jazzy', 'Ebby', 'Chuck', 'Cecil', 'Asher', 'Carll', 'Lorelei', 'Odin', 'Fizz', 'Pawnd', 'Huck', 'Noosh', 'Brockly', 'Simba', 'Pluto', 'Tanner', 'Shiloh', 'Stella', 'Bertson', 'Richie', 'Jeremy', 'Nollie', 'Lolo', 'Crumpet', 'Ito', 'Perry', 'Lance', 'Jeb', 'Gert', 'Wiggles', 'Stu', 'Jay', 'Henry', 'Laika', 'Tobi', 'Bloop', 'Tebow', 'Chesterson', 'Molly', 'Joshwa', 'Ralpher', 'Moofasa', 'Philbert', 'Bones', 'Binky', 'Amber', 'Anthony', 'Blue', 'Harnold', 'Ruffles', 'Durg', 'Zeek', 'Chevy', 'Schnozz', 'Beemo', 'Barney', 'Terrance', 'Gromit', 'Dot', 'Meyer', 'Carbon', 'Travis', 'Tilly', 'Chaz', 'Vinscent', 'Pipsy', 'Luna', 'Jockson', 'Levi', 'Callie', 'Geoff', 'Noah', 'Chubbs', 'Sundance', 'Aubie', 'Grizz', 'Koko', 'Laela', 'Jamesy', 'Toffee', 'Kevon', 'Ace', 'Herschel', 'Alexander', 'Millie', 'Kulet', 'Sky', 'Marvin', 'Sora', 'Rizzo', 'Loomis', 'Brat', 'Burt', 'Amy', 'William', 'Brudge', 'Blakely', 'Grey', 'Alexanderson', 'Carly', 'Ronduh', 'Corey', 'Ashleigh', 'Tripp', 'Cupid', 'Lizzie', 'Cleopatricia', 'Rumble', 'Yoda', 'Bluebert', 'Darrel', 'Lupe', 'General', 'Atticus', 'Gerbald', 'Boston', 'Skye', 'Rubio', 'Petrick', 'Marty', 'Jarod', 'Dewey', 'Hamrick', 'Adele', 'Autumn', 'Karma', 'Anakin', 'Jebberson', 'Jim', 'Daniel', 'Lugan', 'Vince', 'Kallie', 'Augie', 'Josep', 'Jett', 'Harlso', 'Beebop', 'Obi', 'Lassie', 'Tug', 'Walker', 'Hall', 'Shooter', 'Champ', 'Timber', 'Chelsea', 'Dook', 'Farfle', 'Shikha', 'Blipson', 'Steve', 'Andru', 'DonDon', 'Ambrose', 'Arnie', 'Sage', 'Pupcasso', 'Happy', 'Horace', 'Michelangelope', 'Eleanor', 'Hero', 'River', 'Donny', 'Staniel', 'Chuq', 'Finnegus', 'Olaf', 'Sobe', 'Hubertson', 'Brownie', 'Tonks', 'Zuzu', 'Timmy', 'Jordy', 'Charleson', 'Zeus', 'Rey', 'Terrenth', 'Strudel', 'Mya', 'Ozzie', 'Clarkus', 'Peanut', 'Jarvis', 'Maks', 'Bilbo', 'Kobe', 'Derby', 'Herb', 'Bradley', 'Damon', 'Bobby', 'Mitch', 'Gidget', 'Tiger', 'Mac', 'Joey', 'Kial', 'Coopson', 'Ike', 'Maude', 'Robin', 'Socks', 'Sierra', 'Cannon', 'Brandi', 'Goliath', 'Dobby', 'Batdog', 'Link', 'Covach', 'Grizzie', 'Marlee', 'Dante', 'Scott', 'Godzilla', 'Eugene', 'Stephanus', 'Pete', 'Vixen', 'Rueben', 'Lambeau', 'Katie', 'Remy', 'Willy', 'Sid', 'Kendall', 'Ester', 'Hector', 'Chompsky', 'Bobble', 'Spencer', 'Torque', 'Emmie', 'Ben', 'Chesney', 'Oshie', 'Meatball', 'Stefan', 'Julio', 'Crouton', 'Kirk', 'Lulu', 'Jed', 'Roscoe', 'Jo', 'Kawhi', 'Ivar', 'Crawford', 'Aqua', 'Spark', 'Harper', 'Apollo', 'Hermione', 'Sully', 'Bert', 'Fido', 'Traviss', 'Kane', 'Karl', 'Tuck', 'Christoper', 'Rodney', 'Gordon', 'Fletcher', 'Schnitzel', 'Bookstore', 'Baloo', 'Berb', 'Kody', 'Iggy', 'Arlo', 'Fynn', 'Hurley', 'Snicku', 'Cermet', 'Doobert', 'Blitz', 'Kloey', 'Eevee', 'Liam', 'Pippin', 'Kyro', 'Mimosa', 'Georgie', 'Rorie', 'Bruiser', 'Eazy', 'Mark', 'Cal', 'Snickers', 'Maxwell', 'Theo', 'Tyrus', 'Dietrich', 'Mack', 'Tessa', 'Darby', 'Kollin', 'Frönq', 'Ginger', 'Boots', 'Lenox', 'Berkeley', 'Jersey', 'Glenn', 'Mojo', 'Jameson', 'Divine', 'Stephan', 'Sweet', 'Craig', 'Randall', 'Venti', 'Carter', 'Dotsy', 'Fred', 'Dwight', 'Mookie', 'Ozzy', 'Ralphson', 'Bonaparte', 'BeBe', 'Chef', 'Acro', 'Maddie', 'Norman', 'Shakespeare', 'Angel', 'Mairi', 'Claude', 'Rocco', 'Lucky', 'Miguel', 'Zoe', 'Arya', 'Rhino', 'Kramer', 'Cedrick', 'Saydee', 'Bode', 'Suki', 'Goose', 'Moreton', 'Ralph', 'Striker', 'Alfy', 'Karll', 'Rooney', 'Tommy', 'Zooey', 'Billy', 'Arnold', 'Jeffri', 'Shelby', 'Scruffers', 'Quinn', 'Todo', 'Fillup', 'Clyde', 'Cali', 'Betty', 'Freddery', 'Antony', 'Longfellow', 'Eriq', 'Baron', 'Tater', 'Tupawc', 'Mason', 'Rupert', 'Diogi', 'Jessifer', 'Flurpson', 'Kota', 'Chloe', 'Beckham', 'Lacy', 'Orion', 'Anna', 'Emanuel', 'Kayla', 'Dunkin', 'Dex', 'Ole', 'Cora', 'Timofy', 'Pancake', 'Flash', 'Monty', 'Dale', 'Mona', 'Timison', 'Lipton', 'Rufio', 'Julius', 'Dutch', 'Juckson', 'Superpup', 'Buckley', 'Ralf', 'Edmund', 'Lucia', 'Griswold', 'Sprinkles', 'Mingus', 'Tedrick', 'Brandonald', 'Tayzie', 'Clarq', 'Shadoe', 'Charl', 'Milky', 'Remus', 'Sandra', 'Bruno', 'Leela', 'Hazel', 'Rumpole', 'Aja', 'Enchilada', 'Leonidas', 'DayZ', 'Rose', 'Emma', 'Dug', 'Rolf', 'Bradlay', 'Ziva', 'Tyrone', 'Gin', 'Reagan', 'Livvie', 'Severus', 'Comet', 'Tedders', 'Fabio', 'Devón', 'Nigel', 'Monkey', 'Danny', 'Gòrdón', 'Pubert', 'Cilantro', 'Lili', 'Halo', 'Trip', 'Paull', 'Tino', 'Ulysses', 'Willow', 'Mollie', 'Pavlov', 'Bodie', 'Kathmandu', 'Strider', 'Buddah', 'Stuart', 'Mosby', 'Sunshine', 'Edgar', 'Andy', 'Jazz', 'Samsom', 'Bayley', 'Marq', 'Miley', 'Birf', 'Layla', 'Edd', 'Shawwn', 'Harrison', 'Tess', 'Ralphus', 'Butters', 'Bubba', 'Rizzy', 'Jennifur', 'Humphrey', 'Logan', 'Ron', 'Trevith', 'Kuyu', 'Tassy', 'Maisey', 'Leonard', 'Puff', 'Carper', 'Colin', 'Pilot', 'Ed', 'Jomathan', 'Margo', 'Beya', 'Jiminus', 'Mattie', 'Coleman', 'Sailer', 'Kaia', 'Blu', 'Patch', 'Spanky', 'Rontu', 'Mabel', 'Einstein', 'Pepper', 'Tango', 'Thor', 'Huxley', 'Lilah', 'Willem', 'Cuddles', 'Mutt', 'Hercules', 'Dido', 'Gunner', 'Jonah', 'Maya', 'Sprout', 'Bungalo', 'Pinot', 'Jaycob', 'Blanket', 'Ridley', 'Siba', 'Brutus', 'Sam', 'Philippe', 'Opie', 'Wesley', 'Chadrick', 'Luther', 'Nimbus', 'Snoop', 'Trigger', 'Gustav', 'Florence', 'Butter', 'Jerome', 'Jangle', 'Willie', 'Lilli', 'Ken', 'Bauer', 'Mo', 'Jessiga', 'Bell', 'Biden', 'Grady', 'Holly', 'Rodman', 'Glacier', 'Franq', 'Taco', 'Obie', 'Cheesy', 'Stark', 'Rinna', 'Tycho', 'Filup', 'Fiji', 'Banditt', 'Duchess', 'Reptar', 'Brandy', 'Davey', 'Barclay', 'Dylan', 'Eve', 'Genevieve', 'Lillie', 'Kingsley', 'Emmy', 'Dudley', 'Tom', 'Gilbert', 'Newt', 'Gustaf', 'Benny', 'Sojourner', 'Zara', 'Rover', 'Chase', 'Crimson', 'Dawn', 'Duddles', 'Godi', 'Nida', 'Keurig', 'Jareld', 'Brian', 'Winifred', 'Clifford', 'Jaspers', 'Sailor', 'Sonny', 'Rilo', 'Hanz', 'Snoopy', 'Napolean', 'Amélie', 'Dallas', 'Fwed', 'Bronte', 'Alf', 'Evy', 'Arlen', 'Monster', 'Harvey', 'Kona', 'Skittles', 'Smiley', 'Lilly', 'Bowie', 'Jimbo', 'Alejandro', 'Kenzie', 'Mike', 'Jackie']\n"
     ]
    }
   ],
   "source": [
    "# FINAL TEST\n",
    "print(tweets['name'].value_counts().index.tolist())"
   ]
  },
  {
   "cell_type": "markdown",
   "metadata": {},
   "source": [
    "***"
   ]
  },
  {
   "cell_type": "markdown",
   "metadata": {},
   "source": [
    "**Issue 11 (Quality)**: Non-meaningful column names: p1 and p1_dog\n",
    "\n",
    "**Solution**: Rename p1 as predicted_breed and p1_dog as prediction_success"
   ]
  },
  {
   "cell_type": "code",
   "execution_count": 47,
   "metadata": {},
   "outputs": [],
   "source": [
    "# CODE \n",
    "tweets.rename(columns = {'p1': 'predicted_breed', \n",
    "                         'p1_dog': 'prediction_success', \n",
    "                         'p1_conf': 'prediction_cl'}, inplace=True)"
   ]
  },
  {
   "cell_type": "code",
   "execution_count": 48,
   "metadata": {},
   "outputs": [
    {
     "data": {
      "text/plain": [
       "Index(['tweet_id', 'timestamp', 'source', 'name', 'predicted_breed',\n",
       "       'prediction_success', 'prediction_cl', 'retweet_count',\n",
       "       'favorite_count', 'dog_stage', 'new_rating', 'jpg_url', 'text'],\n",
       "      dtype='object')"
      ]
     },
     "execution_count": 48,
     "metadata": {},
     "output_type": "execute_result"
    }
   ],
   "source": [
    "# FINAL TEST\n",
    "tweets.columns"
   ]
  },
  {
   "cell_type": "markdown",
   "metadata": {},
   "source": [
    "***"
   ]
  },
  {
   "cell_type": "markdown",
   "metadata": {},
   "source": [
    "## Storing Cleaned Data"
   ]
  },
  {
   "cell_type": "code",
   "execution_count": 49,
   "metadata": {},
   "outputs": [],
   "source": [
    "tweets.to_csv('twitter_archive_master.csv', encoding='utf-8', index=False)"
   ]
  },
  {
   "cell_type": "markdown",
   "metadata": {},
   "source": [
    "***"
   ]
  },
  {
   "cell_type": "markdown",
   "metadata": {},
   "source": [
    "<a id='analyze'></a>\n",
    "## Analyzing & Visualizing Data"
   ]
  },
  {
   "cell_type": "code",
   "execution_count": 1,
   "metadata": {},
   "outputs": [],
   "source": [
    "# import python libraries and the master file\n",
    "import pandas as pd\n",
    "import numpy as np\n",
    "import matplotlib.pyplot as plt\n",
    "import seaborn as sns\n",
    "import datetime\n",
    "import requests\n",
    "import tweepy\n",
    "import time\n",
    "import json\n",
    "import os\n",
    "import re\n",
    "from IPython.display import Image\n",
    " \n",
    "working_data = pd.read_csv('twitter_archive_master.csv', encoding = 'utf-8')"
   ]
  },
  {
   "cell_type": "code",
   "execution_count": 2,
   "metadata": {},
   "outputs": [
    {
     "data": {
      "text/html": [
       "<div>\n",
       "<style scoped>\n",
       "    .dataframe tbody tr th:only-of-type {\n",
       "        vertical-align: middle;\n",
       "    }\n",
       "\n",
       "    .dataframe tbody tr th {\n",
       "        vertical-align: top;\n",
       "    }\n",
       "\n",
       "    .dataframe thead th {\n",
       "        text-align: right;\n",
       "    }\n",
       "</style>\n",
       "<table border=\"1\" class=\"dataframe\">\n",
       "  <thead>\n",
       "    <tr style=\"text-align: right;\">\n",
       "      <th></th>\n",
       "      <th>tweet_id</th>\n",
       "      <th>timestamp</th>\n",
       "      <th>source</th>\n",
       "      <th>name</th>\n",
       "      <th>predicted_breed</th>\n",
       "      <th>prediction_success</th>\n",
       "      <th>prediction_cl</th>\n",
       "      <th>retweet_count</th>\n",
       "      <th>favorite_count</th>\n",
       "      <th>dog_stage</th>\n",
       "      <th>new_rating</th>\n",
       "      <th>jpg_url</th>\n",
       "      <th>text</th>\n",
       "    </tr>\n",
       "  </thead>\n",
       "  <tbody>\n",
       "    <tr>\n",
       "      <th>1375</th>\n",
       "      <td>680100725817409536</td>\n",
       "      <td>2015-12-24 19:00:23</td>\n",
       "      <td>TweetDeck</td>\n",
       "      <td>NaN</td>\n",
       "      <td>golden_retriever</td>\n",
       "      <td>True</td>\n",
       "      <td>0.698961</td>\n",
       "      <td>1360</td>\n",
       "      <td>3544</td>\n",
       "      <td>pupper</td>\n",
       "      <td>11</td>\n",
       "      <td>https://pbs.twimg.com/media/CW-loUBWYAAn2Cb.jpg</td>\n",
       "      <td>This pupper is not coming inside until she cat...</td>\n",
       "    </tr>\n",
       "    <tr>\n",
       "      <th>359</th>\n",
       "      <td>813217897535406080</td>\n",
       "      <td>2016-12-26 03:00:30</td>\n",
       "      <td>Twitter for iPhone</td>\n",
       "      <td>Atlas</td>\n",
       "      <td>Samoyed</td>\n",
       "      <td>True</td>\n",
       "      <td>0.905972</td>\n",
       "      <td>7438</td>\n",
       "      <td>18934</td>\n",
       "      <td>NaN</td>\n",
       "      <td>13</td>\n",
       "      <td>https://pbs.twimg.com/media/C0khWkVXEAI389B.jpg</td>\n",
       "      <td>Here is Atlas. He went all out this year. 13/1...</td>\n",
       "    </tr>\n",
       "  </tbody>\n",
       "</table>\n",
       "</div>"
      ],
      "text/plain": [
       "                tweet_id            timestamp              source   name  \\\n",
       "1375  680100725817409536  2015-12-24 19:00:23           TweetDeck    NaN   \n",
       "359   813217897535406080  2016-12-26 03:00:30  Twitter for iPhone  Atlas   \n",
       "\n",
       "       predicted_breed  prediction_success  prediction_cl  retweet_count  \\\n",
       "1375  golden_retriever                True       0.698961           1360   \n",
       "359            Samoyed                True       0.905972           7438   \n",
       "\n",
       "      favorite_count dog_stage  new_rating  \\\n",
       "1375            3544    pupper          11   \n",
       "359            18934       NaN          13   \n",
       "\n",
       "                                              jpg_url  \\\n",
       "1375  https://pbs.twimg.com/media/CW-loUBWYAAn2Cb.jpg   \n",
       "359   https://pbs.twimg.com/media/C0khWkVXEAI389B.jpg   \n",
       "\n",
       "                                                   text  \n",
       "1375  This pupper is not coming inside until she cat...  \n",
       "359   Here is Atlas. He went all out this year. 13/1...  "
      ]
     },
     "execution_count": 2,
     "metadata": {},
     "output_type": "execute_result"
    }
   ],
   "source": [
    "# check the dataset\n",
    "working_data.sample(2)"
   ]
  },
  {
   "cell_type": "markdown",
   "metadata": {},
   "source": [
    "***"
   ]
  },
  {
   "cell_type": "markdown",
   "metadata": {},
   "source": [
    "### Question 1. How well does 'WeRateDogs' perform over time?"
   ]
  },
  {
   "cell_type": "code",
   "execution_count": 3,
   "metadata": {},
   "outputs": [],
   "source": [
    "# find out how many tweets are generated every week\n",
    "tweets_weekly = working_data.groupby('timestamp').size().reset_index().rename(columns={0: 'tweet_count'})\n",
    "tweets_weekly.index = pd.DatetimeIndex(tweets_weekly.timestamp) # change index to datetime index\n",
    "tweets_weekly = tweets_weekly.resample('M').sum()[:-1] # count weekly sweets and drop last row (incase not a full month)\n",
    "tweets_weekly.reset_index(drop=False, inplace=True)\n",
    "\n",
    "# find out how many retweets are generated every week\n",
    "retweets_weekly = working_data[['timestamp', 'retweet_count']]\n",
    "retweets_weekly.index = pd.DatetimeIndex(retweets_weekly.timestamp) # change index to datetime index\n",
    "retweets_weekly = retweets_weekly.resample('M').sum()[:-1] # count weekly retweets and drop last row (incase not a full month)\n",
    "retweets_weekly.reset_index(drop=False, inplace=True)\n",
    "\n",
    "# find out how many likes are generated every week\n",
    "favorite_weekly = working_data[['timestamp', 'favorite_count']]\n",
    "favorite_weekly.index = pd.DatetimeIndex(favorite_weekly.timestamp) # change index to datetime index\n",
    "favorite_weekly = favorite_weekly.resample('M').sum()[:-1] # count weekly likes and drop last row (incase not a full month)\n",
    "favorite_weekly.reset_index(drop=False, inplace=True)\n",
    "\n",
    "# source: https://chrisalbon.com/python/data_wrangling/pandas_group_data_by_time/"
   ]
  },
  {
   "cell_type": "code",
   "execution_count": 4,
   "metadata": {},
   "outputs": [
    {
     "data": {
      "text/plain": [
       "Text(0, 0.5, 'counts')"
      ]
     },
     "execution_count": 4,
     "metadata": {},
     "output_type": "execute_result"
    },
    {
     "data": {
      "image/png": "[encoded data removed]",
      "text/plain": [
       "<Figure size 1440x576 with 2 Axes>"
      ]
     },
     "metadata": {},
     "output_type": "display_data"
    }
   ],
   "source": [
    "# creat a plot to visulize data\n",
    "sns.set_context('poster')\n",
    "sns.set_style(\"whitegrid\", {'axes.grid' : False})\n",
    "\n",
    "figure, ax1 = plt.subplots(figsize=(20,8))\n",
    "plt.plot(retweets_weekly.timestamp, retweets_weekly.retweet_count, label='retweets_weekly')\n",
    "plt.plot(favorite_weekly.timestamp, favorite_weekly.favorite_count, label='favorites_weekly')\n",
    "plt.title('WeRateDogs Attraction', weight='bold', fontsize=25,)\n",
    "plt.xlabel('Year and Month', weight='bold', fontsize = 20)\n",
    "plt.ylabel('counts', weight='bold', fontsize = 20)\n",
    "plt.legend()\n",
    "\n",
    "ax2 = plt.twinx()\n",
    "sns.lineplot(tweets_weekly.timestamp, tweets_weekly.tweet_count, color='g', ax=ax2, label='weekly')\n",
    "plt.ylabel('counts', weight='bold', fontsize = 20)"
   ]
  },
  {
   "cell_type": "markdown",
   "metadata": {},
   "source": [
    "### Insight 1: \n",
    "*Although WeRateDogs generated fewer tweets gradually since the beginning of 2016, they still received a relatively constant amount of retweets every month. Moreover, the amount of \"like\"s that WeRateDogs received was steadily going up, which means that every tweet generated by WeRateDogs is getting more retweets and a lot more \"like\"s over time. Hence, we can conclude that WeRateDogs is gaining more attention from the public. Another way to look at WeRateDogs attraction is to check the historical growth of the number of followers. Since the historical data of followers are not available, I have left it off the discussion.*"
   ]
  },
  {
   "cell_type": "markdown",
   "metadata": {},
   "source": [
    "***"
   ]
  },
  {
   "cell_type": "markdown",
   "metadata": {},
   "source": [
    "### Question 2. Do twitter users prefer 'retweet' or 'like' when they favour a dog tweet?"
   ]
  },
  {
   "cell_type": "code",
   "execution_count": 5,
   "metadata": {
    "scrolled": false
   },
   "outputs": [
    {
     "data": {
      "text/plain": [
       "Text(-12.29, 0.5, 'Favorite Count')"
      ]
     },
     "execution_count": 5,
     "metadata": {},
     "output_type": "execute_result"
    },
    {
     "data": {
      "image/png": "[encoded data removed]",
      "text/plain": [
       "<Figure size 540x360 with 1 Axes>"
      ]
     },
     "metadata": {},
     "output_type": "display_data"
    }
   ],
   "source": [
    "sns.set(color_codes = True)\n",
    "sns.set_style(\"whitegrid\", {'axes.grid' : False})\n",
    "\n",
    "sns.lmplot(x = 'retweet_count', \n",
    "           y = 'favorite_count', \n",
    "           data = working_data, \n",
    "           height = 5, \n",
    "           aspect = 1.5, \n",
    "           scatter_kws = {'alpha':1/5})\n",
    "\n",
    "plt.title('Favorite vs. Retweet Count', weight='bold', fontsize = 20)\n",
    "plt.xlabel('Retweet Count', weight='bold', fontsize = 15)\n",
    "plt.ylabel('Favorite Count', weight='bold', fontsize = 15)"
   ]
  },
  {
   "cell_type": "markdown",
   "metadata": {},
   "source": [
    "### Insight 2: \n",
    "*Each point represents the retweets and likes that one tweet has received at the time this data was collected. It can be seen that the majority of the tweets have received less than 50,000 likes and 10,000 retweets, and the most popular tweet has received over 150,000 likes and approximately 80,000 retweets. Apparently, favourite count and retweet count are highly positively correlated, and for about every 2.5 likes there is 1 retweet.*"
   ]
  },
  {
   "cell_type": "markdown",
   "metadata": {},
   "source": [
    "***"
   ]
  },
  {
   "cell_type": "markdown",
   "metadata": {},
   "source": [
    "### Question 3. What ratings do dogs usually receive?"
   ]
  },
  {
   "cell_type": "code",
   "execution_count": 6,
   "metadata": {},
   "outputs": [
    {
     "data": {
      "text/plain": [
       "Text(0, 0.5, 'Counts')"
      ]
     },
     "execution_count": 6,
     "metadata": {},
     "output_type": "execute_result"
    },
    {
     "data": {
      "image/png": "[encoded data removed]",
      "text/plain": [
       "<Figure size 720x360 with 1 Axes>"
      ]
     },
     "metadata": {},
     "output_type": "display_data"
    }
   ],
   "source": [
    "# create a dataframe plotting\n",
    "rating_count = working_data.groupby(['new_rating']).count()['tweet_id']\n",
    "rating_plot = pd.DataFrame({'rating':rating_count.index, 'count':rating_count.values})\n",
    "\n",
    "# use seaborn for plotting\n",
    "sns.set(rc = {'figure.figsize':(10, 5)})\n",
    "sns.set(style = 'whitegrid')\n",
    "sns.set_style('whitegrid', {'axes.grid' : False})\n",
    "ax = sns.barplot(x = 'rating', y = 'count', data = rating_plot)\n",
    "plt.title('Rating Distribution', weight = 'bold', fontsize = 20)\n",
    "plt.xlabel('Rating', weight = 'bold', fontsize = 15)\n",
    "plt.ylabel('Counts', weight = 'bold', fontsize = 15)"
   ]
  },
  {
   "cell_type": "markdown",
   "metadata": {},
   "source": [
    "### Insight 3:\n",
    "*The rating system in WeRateDog does not intend to rate dogs as if the dogs were in a competition. In fact, the Twitter account is devoted to humorously reviewing pictures of dogs doing adorable poses, often giving them scores above 10/10 (https://knowyourmeme.com/memes/theyre-good-dogs-brent). It can be seen that the majority of ratings fall in the 10 to 12 range. Ratings below 5 are rarely given. Let's take a look into a low rated tweet and a high rated tweet, and we may see the difference.* "
   ]
  },
  {
   "cell_type": "code",
   "execution_count": 7,
   "metadata": {},
   "outputs": [
    {
     "data": {
      "text/html": [
       "<img src=\"https://pbs.twimg.com/media/CT56LSZWoAAlJj2.jpg\" width=\"300\" height=\"300\"/>"
      ],
      "text/plain": [
       "<IPython.core.display.Image object>"
      ]
     },
     "execution_count": 7,
     "metadata": {},
     "output_type": "execute_result"
    }
   ],
   "source": [
    "# randomly select tweet that have ratings lower or euqal to 1\n",
    "random_low = working_data.loc[(working_data['new_rating'] <= 1)].sample(1)\n",
    "\n",
    "# print the picture of the low rated tweet\n",
    "Image(url = random_low.jpg_url.iloc[0], width = 300, height = 300)"
   ]
  },
  {
   "cell_type": "code",
   "execution_count": 8,
   "metadata": {},
   "outputs": [
    {
     "name": "stdout",
     "output_type": "stream",
     "text": [
      "[\"Not familiar with this breed. No tail (weird). Only 2 legs. Doesn't bark. Surprisingly quick. Shits eggs. 1/10 https://t.co/Asgdc6kuLX\"]\n"
     ]
    }
   ],
   "source": [
    "# print the text of the low rated tweet\n",
    "print(random_low.text.values)"
   ]
  },
  {
   "cell_type": "code",
   "execution_count": 9,
   "metadata": {},
   "outputs": [
    {
     "data": {
      "text/html": [
       "<img src=\"https://pbs.twimg.com/media/CafdAWCW0AE3Igl.jpg\" width=\"300\" height=\"300\"/>"
      ],
      "text/plain": [
       "<IPython.core.display.Image object>"
      ]
     },
     "execution_count": 9,
     "metadata": {},
     "output_type": "execute_result"
    }
   ],
   "source": [
    "# randomly select tweet that have ratings higher or euqal to 14\n",
    "random_high = working_data.loc[(working_data['new_rating'] >= 13)].sample(1)\n",
    "\n",
    "# print the picture of the high rated tweet\n",
    "Image(url = random_high.jpg_url.iloc[0], width = 300, height = 300)"
   ]
  },
  {
   "cell_type": "code",
   "execution_count": 10,
   "metadata": {},
   "outputs": [
    {
     "name": "stdout",
     "output_type": "stream",
     "text": [
      "['If you are aware of who is making these please let me know. 13/10 vroom vroom https://t.co/U0D1sbIDrG']\n"
     ]
    }
   ],
   "source": [
    "# print the text of the high rated tweet\n",
    "print(random_high.text.values)"
   ]
  },
  {
   "cell_type": "markdown",
   "metadata": {},
   "source": [
    "***"
   ]
  },
  {
   "cell_type": "markdown",
   "metadata": {},
   "source": [
    "### Question 4: What are the top 10 common predicted dog breeds on WeRateDogs?"
   ]
  },
  {
   "cell_type": "code",
   "execution_count": 11,
   "metadata": {},
   "outputs": [
    {
     "data": {
      "text/plain": [
       "golden_retriever      138\n",
       "Labrador_retriever     93\n",
       "Pembroke               88\n",
       "Chihuahua              79\n",
       "pug                    54\n",
       "                     ... \n",
       "lawn_mower              1\n",
       "bakery                  1\n",
       "shield                  1\n",
       "bannister               1\n",
       "bighorn                 1\n",
       "Name: predicted_breed, Length: 372, dtype: int64"
      ]
     },
     "execution_count": 11,
     "metadata": {},
     "output_type": "execute_result"
    }
   ],
   "source": [
    "# take a look at what kind of breed we have here\n",
    "working_data.predicted_breed.value_counts()"
   ]
  },
  {
   "cell_type": "code",
   "execution_count": 12,
   "metadata": {},
   "outputs": [
    {
     "data": {
      "image/png": "[encoded data removed]",
      "text/plain": [
       "<Figure size 864x432 with 1 Axes>"
      ]
     },
     "metadata": {},
     "output_type": "display_data"
    },
    {
     "name": "stdout",
     "output_type": "stream",
     "text": [
      "Total dogs: 1469\n",
      "Total dog breeds: 111\n"
     ]
    }
   ],
   "source": [
    "# remove the values that have an invalid dog breeds name such as 'alp' and 'hand_blower'\n",
    "real_dogs = working_data.loc[(working_data['prediction_success'] == True)].predicted_breed\n",
    "\n",
    "# create a series to sort the proportions of top 10 breeds and the rest breeds as 'others'\n",
    "all_breeds = real_dogs.value_counts()\n",
    "top_breeds = all_breeds.head(10)\n",
    "if len(all_breeds) > 10:\n",
    "    top_breeds['others'.format(len(all_breeds) - 10)] = all_breeds[10:].sum()\n",
    "\n",
    "# convert the series into dataframe\n",
    "top_breeds = pd.Series.to_frame(top_breeds)\n",
    "top_breeds = top_breeds.rename_axis('breed').reset_index()\n",
    "top_breeds.rename(columns={\"predicted_breed\": \"count\"}, inplace=True)\n",
    "\n",
    "# create a donut plot\n",
    "fig = plt.figure(figsize=(12,6))\n",
    "ax = fig.add_axes((0,0,0.5,1))\n",
    "ax.set_title('Dog Breeds Distribution', bbox={'facecolor':'1', 'pad':5}, size=15)\n",
    "labels = top_breeds['breed']\n",
    "sizes = top_breeds['count']\n",
    "colors = ['yellowgreen', \n",
    "          'gold', \n",
    "          'lightskyblue', \n",
    "          'lightcoral', \n",
    "          'yellowgreen', \n",
    "          'gold', \n",
    "          'lightskyblue', \n",
    "          'lightcoral', \n",
    "          'yellowgreen', \n",
    "          'gold', \n",
    "          'lightskyblue']\n",
    "explode = (0.2, 0, 0, 0, 0, 0, 0, 0, 0, 0, 0) \n",
    "plt.pie(sizes, explode=explode, labels=labels, colors=colors, autopct='%1.1f%%', shadow=False)     \n",
    "\n",
    "#draw a circle at the center of pie to make it look like a donut\n",
    "centre_circle = plt.Circle((0,0),0.65, color='white', fc='white',linewidth=0.9)\n",
    "fig = plt.gcf()\n",
    "fig.gca().add_artist(centre_circle)\n",
    "plt.axis('equal')\n",
    "plt.show()\n",
    "\n",
    "print('Total dogs: {}'.format(len(real_dogs)))\n",
    "print('Total dog breeds: {}'.format(len(all_breeds))) \n",
    "\n",
    "# source: https://stackoverflow.com/questions/29219055/plot-top-10-verse-all-other-values"
   ]
  },
  {
   "cell_type": "markdown",
   "metadata": {},
   "source": [
    "### Insight 4:\n",
    "*The machine learning tool developed by Udacity staff has successfully identified 111 dog breeds for 1469 dogs at the time this data was collected. It can be seen that the most popular dog breed on WeRateDogs is golden retriever, which accounts for 9.4 percent of the dogs. Breeds that are not the 10 most common are grouped as 'others', and each of these breeds make up less than 2% of the dog population. The good spread of dog breeds distribution shows that WeRateDogs successfully captured attention from pet owners of most kinds of dogs.*\n",
    "\n",
    "\n",
    "*The machine learning tool uses dog pictures to make predictions, and the promising conclusion above really depends on how useful the machine learning tool is at recognizing different kinds of dogs. Thus, my question is how confident we are with the prediction.*"
   ]
  },
  {
   "cell_type": "markdown",
   "metadata": {},
   "source": [
    "*** "
   ]
  },
  {
   "cell_type": "markdown",
   "metadata": {},
   "source": [
    "### Question 5: How confident was the dog breed prediction?"
   ]
  },
  {
   "cell_type": "code",
   "execution_count": 13,
   "metadata": {},
   "outputs": [
    {
     "data": {
      "image/png": "[encoded data removed]",
      "text/plain": [
       "<Figure size 1080x432 with 1 Axes>"
      ]
     },
     "metadata": {},
     "output_type": "display_data"
    }
   ],
   "source": [
    "# create a list of 10 most common breeds\n",
    "common_breeds = real_dogs.value_counts().head(10).index.tolist()\n",
    "\n",
    "# extract the confidence levels associated with the sucessful prediction \n",
    "df_cl = working_data[working_data['predicted_breed'].isin(common_breeds)]\n",
    "\n",
    "# plot a boxplot using confidence level dataframe\n",
    "fig = plt.figure(figsize=(15,6))\n",
    "sns.boxplot(x = 'predicted_breed', \n",
    "            y = 'prediction_cl', \n",
    "            data = df_cl, \n",
    "            order = common_breeds, \n",
    "            palette = 'Paired')\n",
    "plt.title('Confidence of Prediction for the 10 Most Common Breeds', weight = 'bold', fontsize = 20)\n",
    "plt.xlabel('Breed', weight = 'bold', fontsize = 20)\n",
    "plt.ylabel('Confidence Levels', weight = 'bold', fontsize = 20)\n",
    "plt.savefig('prediction_confidence_top_10', weight = 'bold', fontsize = 8);"
   ]
  },
  {
   "cell_type": "markdown",
   "metadata": {},
   "source": [
    "### Insight 5: \n",
    "*The boxplot shows the 10 most common predicted breeds with the corresponding confidence for their prediction. Pug and Samoyed have the highest upper quartiles, while Chow has the lowest lower quartile. The median confidence level of Pug is higher than 0.9. A higher confidence level means that if the algorithm repeats the same process many times, then the higher percent of the intervals produced will capture the actual proportion of the breed. Therefore, the machine learning tool performs better at predicting Samoyed than any other breeds. Since most of the median confidence level is between 0.6 and 0.8, the dog breeds distribution drawn from the machine learning result is not 100% representing the actual dog population on WeRateDogs.* "
   ]
  },
  {
   "cell_type": "markdown",
   "metadata": {},
   "source": [
    "### Resources:\n",
    "https://stackoverflow.com/questions/4666973/how-to-extract-the-substring-between-two-markers\n",
    "<br>\n",
    "https://chrisalbon.com/python/data_wrangling/pandas_group_data_by_time/\n",
    "<br>\n",
    "https://stackoverflow.com/questions/29219055/plot-top-10-verse-all-other-values\n",
    "<br>\n",
    "Hands-on Exploratory Data Analysis with Python by S.Mukhiya and U.Ahmed"
   ]
  },
  {
   "cell_type": "code",
   "execution_count": null,
   "metadata": {},
   "outputs": [],
   "source": []
  }
 ],
 "metadata": {
  "kernelspec": {
   "display_name": "Python 3",
   "language": "python",
   "name": "python3"
  },
  "language_info": {
   "codemirror_mode": {
    "name": "ipython",
    "version": 3
   },
   "file_extension": ".py",
   "mimetype": "text/x-python",
   "name": "python",
   "nbconvert_exporter": "python",
   "pygments_lexer": "ipython3",
   "version": "3.7.7"
  }
 },
 "nbformat": 4,
 "nbformat_minor": 2
}
